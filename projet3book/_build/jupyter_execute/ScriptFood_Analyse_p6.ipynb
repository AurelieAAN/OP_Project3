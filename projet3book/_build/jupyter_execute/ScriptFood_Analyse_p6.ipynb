{
 "cells": [
  {
   "cell_type": "markdown",
   "id": "6e65d8b3",
   "metadata": {},
   "source": [
    "# Conclusion - Un Apport journalier équilibré"
   ]
  },
  {
   "cell_type": "markdown",
   "id": "81783c36",
   "metadata": {},
   "source": [
    "Le nutriscore peut permettre d’améliorer la santé des français. En effet, il permet de catégoriser les aliments selon l’influence des facteurs suivants : matières grasses, additifs, fibres, protéines, glucides, sels. \n",
    "Il faut aussi ajouter des poids métiers afin de noter les aliments positivement ou négativement selon ces facteurs.\n",
    "\n",
    "Cependant, c’est la combinaison de ces aliments qui va permettre aux français de manger équilibrer et de recevoir un apport nutritionnel quotidien suffisant.\n",
    "\n",
    "Ainsi, il est nécessaire de proposer une application – Smart-food et de modifier les « étiquettes » du nutriscore afin de catégoriser les aliments et que ce soit plus parlant pour la population.\n"
   ]
  },
  {
   "cell_type": "markdown",
   "id": "f126210c",
   "metadata": {},
   "source": [
    "# Pour aller plus loin : Knn classifier"
   ]
  },
  {
   "cell_type": "markdown",
   "id": "ca6b2bc9",
   "metadata": {},
   "source": [
    "Remplaçons les données manquantes du nutrition grade fr. Utilisons le Knn classifier qui permet de prédire les données selon les plus proche voisins."
   ]
  },
  {
   "cell_type": "markdown",
   "id": "935e1298",
   "metadata": {},
   "source": [
    "Utilisons les variables regroupées que nous avons utilisé pour la CAH."
   ]
  },
  {
   "cell_type": "code",
   "execution_count": 1,
   "id": "02fccca6",
   "metadata": {},
   "outputs": [
    {
     "ename": "NameError",
     "evalue": "name 'data' is not defined",
     "output_type": "error",
     "traceback": [
      "\u001b[1;31m---------------------------------------------------------------------------\u001b[0m",
      "\u001b[1;31mNameError\u001b[0m                                 Traceback (most recent call last)",
      "\u001b[1;32m~\\AppData\\Local\\Temp/ipykernel_640/2804329674.py\u001b[0m in \u001b[0;36m<module>\u001b[1;34m\u001b[0m\n\u001b[1;32m----> 1\u001b[1;33m data_knn = data[['reg_salt', 'nutrition_grade_fr', 'reg_additives', 'reg_fat',\n\u001b[0m\u001b[0;32m      2\u001b[0m        'reg_carbohydrates', 'reg_fiber', 'reg_protein']]\n",
      "\u001b[1;31mNameError\u001b[0m: name 'data' is not defined"
     ]
    }
   ],
   "source": [
    "data_knn = data[['reg_salt', 'nutrition_grade_fr', 'reg_additives', 'reg_fat',\n",
    "       'reg_carbohydrates', 'reg_fiber', 'reg_protein']]"
   ]
  },
  {
   "cell_type": "code",
   "execution_count": 241,
   "id": "610eb6fd",
   "metadata": {},
   "outputs": [],
   "source": [
    "data_knn = data_knn.loc[(pd.isna(data_knn[\"reg_salt\"])==False) & (pd.isna(data_knn[\"reg_additives\"])==False) \n",
    "                        & (pd.isna(data_knn[\"reg_fat\"])==False) & (pd.isna(data_knn[\"reg_carbohydrates\"])==False) \n",
    "                        & (pd.isna(data_knn[\"reg_fiber\"])==False) & (pd.isna(data_knn[\"reg_protein\"])==False)]"
   ]
  },
  {
   "cell_type": "code",
   "execution_count": 248,
   "id": "c0fad1d0",
   "metadata": {},
   "outputs": [],
   "source": [
    "data_knn_train = data_knn.loc[pd.isna(data_knn[\"nutrition_grade_fr\"])==False]"
   ]
  },
  {
   "cell_type": "code",
   "execution_count": 249,
   "id": "47139d5e",
   "metadata": {
    "scrolled": false
   },
   "outputs": [
    {
     "data": {
      "text/plain": [
       "(64838, 7)"
      ]
     },
     "execution_count": 249,
     "metadata": {},
     "output_type": "execute_result"
    }
   ],
   "source": [
    "data_knn_train.shape"
   ]
  },
  {
   "cell_type": "code",
   "execution_count": 273,
   "id": "aad10157",
   "metadata": {},
   "outputs": [
    {
     "name": "stdout",
     "output_type": "stream",
     "text": [
      "[0 1 4 ... 2 2 1]\n"
     ]
    }
   ],
   "source": [
    "#creating labelEncoder\n",
    "le = preprocessing.LabelEncoder()\n",
    "# Converting string labels into numbers.\n",
    "Nutgrade_encoded=le.fit_transform(data_knn_train[\"nutrition_grade_fr\"])\n",
    "print(Nutgrade_encoded)"
   ]
  },
  {
   "cell_type": "code",
   "execution_count": 274,
   "id": "0ef278f9",
   "metadata": {},
   "outputs": [],
   "source": [
    "features=list(zip(data_knn_train[\"reg_salt\"], data_knn_train[\"reg_additives\"], data_knn_train[\"reg_fat\"]\n",
    "                 , data_knn_train[\"reg_carbohydrates\"], data_knn_train[\"reg_fiber\"], data_knn_train[\"reg_protein\"]))\n"
   ]
  },
  {
   "cell_type": "code",
   "execution_count": 275,
   "id": "785b52a2",
   "metadata": {},
   "outputs": [],
   "source": [
    "# Import train_test_split function\n",
    "from sklearn.model_selection import train_test_split\n",
    "\n",
    "# Split dataset into training set and test set\n",
    "X_train, X_test, y_train, y_test = train_test_split(features, Nutgrade_encoded, test_size=0.3) # 70% training and 30% test\n"
   ]
  },
  {
   "cell_type": "code",
   "execution_count": 276,
   "id": "bfa07921",
   "metadata": {},
   "outputs": [],
   "source": [
    "#Import knearest neighbors Classifier model\n",
    "from sklearn.neighbors import KNeighborsClassifier\n",
    "\n",
    "#Create KNN Classifier\n",
    "knn = KNeighborsClassifier(n_neighbors=5)\n",
    "\n",
    "#Train the model using the training sets\n",
    "knn.fit(X_train, y_train)\n",
    "\n",
    "#Predict the response for test dataset\n",
    "y_pred = knn.predict(X_test)"
   ]
  },
  {
   "cell_type": "code",
   "execution_count": 277,
   "id": "560b3d74",
   "metadata": {},
   "outputs": [
    {
     "name": "stdout",
     "output_type": "stream",
     "text": [
      "Accuracy: 0.6461546370553156\n"
     ]
    }
   ],
   "source": [
    "#Import scikit-learn metrics module for accuracy calculation\n",
    "from sklearn import metrics\n",
    "# Model Accuracy, how often is the classifier correct?\n",
    "print(\"Accuracy:\",metrics.accuracy_score(y_test, y_pred))"
   ]
  },
  {
   "cell_type": "markdown",
   "id": "dd6c2530",
   "metadata": {},
   "source": [
    "Taux de classification à 64,6%"
   ]
  },
  {
   "cell_type": "markdown",
   "id": "17962d4f",
   "metadata": {},
   "source": [
    "#### Appliquons ce modèle sur les données à prédire"
   ]
  },
  {
   "cell_type": "code",
   "execution_count": 250,
   "id": "81ed21aa",
   "metadata": {},
   "outputs": [],
   "source": [
    "data_knn_test = data_knn.loc[pd.isna(data_knn[\"nutrition_grade_fr\"])==True]"
   ]
  },
  {
   "cell_type": "code",
   "execution_count": 251,
   "id": "4525733f",
   "metadata": {},
   "outputs": [
    {
     "data": {
      "text/plain": [
       "(578, 7)"
      ]
     },
     "execution_count": 251,
     "metadata": {},
     "output_type": "execute_result"
    }
   ],
   "source": [
    "data_knn_test.shape"
   ]
  },
  {
   "cell_type": "code",
   "execution_count": 252,
   "id": "2426a967",
   "metadata": {},
   "outputs": [
    {
     "data": {
      "text/plain": [
       "Index(['reg_salt', 'nutrition_grade_fr', 'reg_additives', 'reg_fat',\n",
       "       'reg_carbohydrates', 'reg_fiber', 'reg_protein'],\n",
       "      dtype='object')"
      ]
     },
     "execution_count": 252,
     "metadata": {},
     "output_type": "execute_result"
    }
   ],
   "source": [
    "data_knn_test.columns"
   ]
  },
  {
   "cell_type": "markdown",
   "id": "58396a5a",
   "metadata": {},
   "source": [
    "Commençons par encoder le nutrion grade fr"
   ]
  },
  {
   "cell_type": "code",
   "execution_count": 263,
   "id": "bf767056",
   "metadata": {},
   "outputs": [],
   "source": [
    "features_test=list(zip(data_knn_test[\"reg_salt\"], data_knn_test[\"reg_additives\"], data_knn_test[\"reg_fat\"]\n",
    "                 , data_knn_test[\"reg_carbohydrates\"], data_knn_test[\"reg_fiber\"], data_knn_test[\"reg_protein\"]))"
   ]
  },
  {
   "cell_type": "markdown",
   "id": "296190e7",
   "metadata": {},
   "source": [
    "Construisons le modèle de classificateur KNN."
   ]
  },
  {
   "cell_type": "code",
   "execution_count": 261,
   "id": "cf8e8bbb",
   "metadata": {},
   "outputs": [],
   "source": [
    "from sklearn.neighbors import KNeighborsClassifier\n",
    "\n",
    "model = KNeighborsClassifier(n_neighbors=5)"
   ]
  },
  {
   "cell_type": "code",
   "execution_count": 262,
   "id": "1e5e831c",
   "metadata": {},
   "outputs": [
    {
     "data": {
      "text/plain": [
       "KNeighborsClassifier()"
      ]
     },
     "execution_count": 262,
     "metadata": {},
     "output_type": "execute_result"
    }
   ],
   "source": [
    "# Train the model using the training sets\n",
    "model.fit(features,Nutgrade_encoded)"
   ]
  },
  {
   "cell_type": "code",
   "execution_count": 265,
   "id": "7ec86fd5",
   "metadata": {},
   "outputs": [],
   "source": [
    "predicted= model.predict(features_test) # 0:Overcast, 2:Mild"
   ]
  },
  {
   "cell_type": "code",
   "execution_count": 268,
   "id": "8ecccc2b",
   "metadata": {},
   "outputs": [],
   "source": [
    "data_knn_test=data_knn_test.assign(nutrition_grade_fr=predicted)"
   ]
  },
  {
   "cell_type": "code",
   "execution_count": 278,
   "id": "6c7c4d27",
   "metadata": {},
   "outputs": [
    {
     "data": {
      "image/png": "[encoded data removed]",
      "text/plain": [
       "<Figure size 792x504 with 1 Axes>"
      ]
     },
     "metadata": {
      "filenames": {
       "image/png": "D:\\Users\\Aurel\\OneDrive\\_WORK0\\IngenieurIA\\projets\\Projet3OrgSante\\projet3book\\_build\\jupyter_execute\\ScriptFood_Analyse_p6_26_0.png"
      }
     },
     "output_type": "display_data"
    }
   ],
   "source": [
    "pk.graph_barplot(data_knn_test['nutrition_grade_fr'], \"Répartition des aliments selon le nutrition grade prédit avec Knn classifier\", \n",
    "              (0.82, 0.28, 0.09),\n",
    "              0, 45, \"nutrition_grade_fr\", \"Fréquence en %\",0,1, (11,7))"
   ]
  }
 ],
 "metadata": {
  "kernelspec": {
   "display_name": "venv",
   "language": "python",
   "name": "venv"
  },
  "language_info": {
   "codemirror_mode": {
    "name": "ipython",
    "version": 3
   },
   "file_extension": ".py",
   "mimetype": "text/x-python",
   "name": "python",
   "nbconvert_exporter": "python",
   "pygments_lexer": "ipython3",
   "version": "3.9.8"
  }
 },
 "nbformat": 4,
 "nbformat_minor": 5
}