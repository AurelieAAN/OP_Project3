{
 "cells": [
  {
   "cell_type": "markdown",
   "id": "456e6b53",
   "metadata": {},
   "source": [
    "# V - Combinaison des aliments"
   ]
  },
  {
   "cell_type": "markdown",
   "id": "d1799cc3",
   "metadata": {},
   "source": [
    "Utilisons le nutriscore qui permettra de classer nos aliments. Nous devons modifier les étiquettes et créer des catégories d'aliment afin de pouvoir garantir une alimentation équilibrée.\n",
    "\n",
    "Ensuite, nous devons comparer le menu quotidien avec le seuil de l’apport journalier.\n",
    "\n",
    "Voici l'apport quotidien pour un adulte :\n",
    "Glucides = 250g (carbohydrates)\n",
    "lipides = 50 insaturé et 20 sature\n",
    "Protéines = 45 g pour une personne de 55 kg 60 g pour une personne de 75 kg\n",
    "Fibres = 25 à 30 g dont une moitié issue des céréales et l'autre issue des fruits et légumes\n",
    "\n",
    "Nous pourrions créer une application Mobile Smart-Food.\n"
   ]
  }
 ],
 "metadata": {
  "kernelspec": {
   "display_name": "venv",
   "language": "python",
   "name": "venv"
  },
  "language_info": {
   "codemirror_mode": {
    "name": "ipython",
    "version": 3
   },
   "file_extension": ".py",
   "mimetype": "text/x-python",
   "name": "python",
   "nbconvert_exporter": "python",
   "pygments_lexer": "ipython3",
   "version": "3.9.8"
  }
 },
 "nbformat": 4,
 "nbformat_minor": 5
}