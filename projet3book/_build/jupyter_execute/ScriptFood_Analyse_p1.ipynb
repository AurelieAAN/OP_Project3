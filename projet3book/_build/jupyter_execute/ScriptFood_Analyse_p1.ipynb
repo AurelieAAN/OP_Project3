{
 "cells": [
  {
   "cell_type": "markdown",
   "id": "72ce5185",
   "metadata": {},
   "source": [
    "# I - Contexte du projet"
   ]
  },
  {
   "cell_type": "markdown",
   "id": "e66f364c",
   "metadata": {},
   "source": [
    "## Problématique : Comment améliorer la santé des français ?\n"
   ]
  },
  {
   "cell_type": "markdown",
   "id": "89e85c0a",
   "metadata": {},
   "source": [
    "- Est-ce que le nutriscore y contribue ?\n",
    "- Si non, comment pouvons -  nous améliorer la santé de la population ?"
   ]
  },
  {
   "cell_type": "markdown",
   "id": "3e23c3b3",
   "metadata": {},
   "source": [
    "## Methode :\n",
    "- Analyser les caractéristiques du nutriscore\n",
    "- Etudier les autres moyens à notre disposition pour améliorer l’efficacité du nutriscore ou apporter de nouvelles solutions"
   ]
  }
 ],
 "metadata": {
  "jupytext": {
   "formats": "ipynb,md"
  },
  "kernelspec": {
   "display_name": "venv",
   "language": "python",
   "name": "venv"
  },
  "language_info": {
   "codemirror_mode": {
    "name": "ipython",
    "version": 3
   },
   "file_extension": ".py",
   "mimetype": "text/x-python",
   "name": "python",
   "nbconvert_exporter": "python",
   "pygments_lexer": "ipython3",
   "version": "3.9.8"
  }
 },
 "nbformat": 4,
 "nbformat_minor": 5
}