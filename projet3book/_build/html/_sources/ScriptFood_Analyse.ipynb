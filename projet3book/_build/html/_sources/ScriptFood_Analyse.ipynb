{
 "cells": [
  {
   "cell_type": "markdown",
   "id": "dcedd906",
   "metadata": {},
   "source": [
    "# Contexte du projet"
   ]
  },
  {
   "cell_type": "markdown",
   "id": "8c6d8872",
   "metadata": {},
   "source": [
    "## Problématique : Comment améliorer la santé des français ?"
   ]
  },
  {
   "cell_type": "markdown",
   "id": "daffe348",
   "metadata": {},
   "source": [
    "## But de l’étude :\n",
    "- Est-ce que le nutriscore y contribue ?\n",
    "- Si non, comment pouvons -  nous améliorer la santé de la population ?"
   ]
  },
  {
   "cell_type": "markdown",
   "id": "e51be73e",
   "metadata": {},
   "source": [
    "## Methode :\n",
    "- Découvrir les caractéristiques du nutriscore et son intérêt\n",
    "- Etudier les autres moyens à notre disposition pour améliorer l’efficacité du nutriscore ou apporter de nouvelles solutions"
   ]
  },
  {
   "cell_type": "markdown",
   "id": "de8d1009",
   "metadata": {},
   "source": [
    "# Construction de la base de données"
   ]
  },
  {
   "cell_type": "markdown",
   "id": "4ae42b26",
   "metadata": {},
   "source": [
    "## Exploration  de nos données"
   ]
  },
  {
   "cell_type": "code",
   "execution_count": 1,
   "id": "61889402",
   "metadata": {},
   "outputs": [
    {
     "ename": "ModuleNotFoundError",
     "evalue": "No module named 'Package'",
     "output_type": "error",
     "traceback": [
      "\u001b[1;31m---------------------------------------------------------------------------\u001b[0m",
      "\u001b[1;31mModuleNotFoundError\u001b[0m                       Traceback (most recent call last)",
      "\u001b[1;32m~\\AppData\\Local\\Temp/ipykernel_22708/2313245602.py\u001b[0m in \u001b[0;36m<module>\u001b[1;34m\u001b[0m\n\u001b[0;32m      6\u001b[0m \u001b[1;32mimport\u001b[0m \u001b[0mscipy\u001b[0m\u001b[1;33m.\u001b[0m\u001b[0mstats\u001b[0m\u001b[1;33m\u001b[0m\u001b[1;33m\u001b[0m\u001b[0m\n\u001b[0;32m      7\u001b[0m \u001b[1;32mimport\u001b[0m \u001b[0mseaborn\u001b[0m \u001b[1;32mas\u001b[0m \u001b[0msns\u001b[0m\u001b[1;33m\u001b[0m\u001b[1;33m\u001b[0m\u001b[0m\n\u001b[1;32m----> 8\u001b[1;33m \u001b[1;32mfrom\u001b[0m \u001b[0mPackage\u001b[0m \u001b[1;32mimport\u001b[0m \u001b[0mScripts_Analyse01\u001b[0m \u001b[1;32mas\u001b[0m \u001b[0mpk\u001b[0m\u001b[1;33m\u001b[0m\u001b[1;33m\u001b[0m\u001b[0m\n\u001b[0m\u001b[0;32m      9\u001b[0m \u001b[1;32mimport\u001b[0m \u001b[0mplotly\u001b[0m\u001b[1;33m.\u001b[0m\u001b[0mexpress\u001b[0m \u001b[1;32mas\u001b[0m \u001b[0mpx\u001b[0m\u001b[1;33m\u001b[0m\u001b[1;33m\u001b[0m\u001b[0m\n\u001b[0;32m     10\u001b[0m \u001b[1;32mimport\u001b[0m \u001b[0mplotly\u001b[0m\u001b[1;33m.\u001b[0m\u001b[0mgraph_objects\u001b[0m \u001b[1;32mas\u001b[0m \u001b[0mgo\u001b[0m\u001b[1;33m\u001b[0m\u001b[1;33m\u001b[0m\u001b[0m\n",
      "\u001b[1;31mModuleNotFoundError\u001b[0m: No module named 'Package'"
     ]
    }
   ],
   "source": [
    "import pandas as pd\n",
    "import numpy as np\n",
    "import missingno\n",
    "import matplotlib.pyplot as plt\n",
    "import matplotlib.patches as mpatches\n",
    "import scipy.stats\n",
    "import seaborn as sns\n",
    "from Package import Scripts_Analyse01 as pk\n",
    "import plotly.express as px\n",
    "import plotly.graph_objects as go\n",
    "from yellowbrick.features import ParallelCoordinates\n",
    "from plotly.graph_objects import Layout"
   ]
  },
  {
   "cell_type": "code",
   "execution_count": null,
   "id": "3d5be52b",
   "metadata": {},
   "outputs": [],
   "source": [
    "data = pd.read_csv(\"./Data/fr.openfoodfacts.org.products.csv\", encoding='utf-8', sep=\"\\t\",low_memory=False)"
   ]
  },
  {
   "cell_type": "code",
   "execution_count": null,
   "id": "3c3d6e11",
   "metadata": {},
   "outputs": [],
   "source": [
    "data.shape"
   ]
  },
  {
   "cell_type": "markdown",
   "id": "d51b8e4a",
   "metadata": {},
   "source": [
    "Nous disposons de 320 772 produits alimentaires et de 162 colonnes."
   ]
  },
  {
   "cell_type": "markdown",
   "id": "30327106",
   "metadata": {},
   "source": [
    "Regardons le nom des colonnes."
   ]
  },
  {
   "cell_type": "code",
   "execution_count": null,
   "id": "7713299a",
   "metadata": {},
   "outputs": [],
   "source": [
    "for i in data.columns:\n",
    "    print(i)"
   ]
  },
  {
   "cell_type": "markdown",
   "id": "76a0a239",
   "metadata": {},
   "source": [
    "Nous disposons du détail des aliments en fonction notamment des apports nutritionnels.\n",
    "\n",
    "Regardons quel type de variables nous avons."
   ]
  },
  {
   "cell_type": "code",
   "execution_count": null,
   "id": "376e8ef5",
   "metadata": {},
   "outputs": [],
   "source": [
    "data.info()"
   ]
  },
  {
   "cell_type": "markdown",
   "id": "48eac12d",
   "metadata": {},
   "source": [
    "Essayons de transformer les variables object en string."
   ]
  },
  {
   "cell_type": "code",
   "execution_count": null,
   "id": "4edc6145",
   "metadata": {},
   "outputs": [],
   "source": [
    "#pk.data_transformcol_string(data)"
   ]
  },
  {
   "cell_type": "markdown",
   "id": "f622e60f",
   "metadata": {},
   "source": [
    "Etudions un extrait de nos donnéees."
   ]
  },
  {
   "cell_type": "code",
   "execution_count": null,
   "id": "38741c2d",
   "metadata": {},
   "outputs": [],
   "source": [
    "data.head(5)"
   ]
  },
  {
   "cell_type": "markdown",
   "id": "c6bb43a6",
   "metadata": {},
   "source": [
    "Nous observons beaucoup de données manquantes. Regardons les variables avec plus de 80 %  de données manquantes."
   ]
  },
  {
   "cell_type": "code",
   "execution_count": null,
   "id": "0740bd9d",
   "metadata": {},
   "outputs": [],
   "source": [
    "tab=pk.del_Nan(data, 0.8,0, 0)"
   ]
  },
  {
   "cell_type": "code",
   "execution_count": null,
   "id": "923e90fd",
   "metadata": {},
   "outputs": [],
   "source": [
    "pd.set_option('display.max_rows', 500)\n",
    "tab\n"
   ]
  },
  {
   "cell_type": "markdown",
   "id": "df0eb3e3",
   "metadata": {},
   "source": [
    "Ces variables n'apportent pas suffisament d'information. Nous pouvons les supprimer."
   ]
  },
  {
   "cell_type": "code",
   "execution_count": null,
   "id": "d4f04a21",
   "metadata": {},
   "outputs": [],
   "source": [
    "pk.del_Nan(data, 0.8,1, 2)"
   ]
  },
  {
   "cell_type": "code",
   "execution_count": null,
   "id": "2fce051c",
   "metadata": {},
   "outputs": [],
   "source": [
    "data.shape"
   ]
  },
  {
   "cell_type": "markdown",
   "id": "553bc05f",
   "metadata": {},
   "source": [
    "Il nous reste 54 variables."
   ]
  },
  {
   "cell_type": "markdown",
   "id": "0a5349d3",
   "metadata": {},
   "source": [
    "Regardons si des variables ne sont pas utiles."
   ]
  },
  {
   "cell_type": "code",
   "execution_count": null,
   "id": "5dba9b6c",
   "metadata": {},
   "outputs": [],
   "source": [
    "data.columns"
   ]
  },
  {
   "cell_type": "markdown",
   "id": "4f1ab6b5",
   "metadata": {},
   "source": [
    "Certaines variables ne sont pas utiles pour notre analyse comme l'url des fiches ou la date de dernière modification.\n",
    "Nous pouvons donc les supprimer et conserver par exemple la date de création de la fiche aliment.\n",
    "Voici les colonnes que nous supprimons : \n",
    "url, creator, created_t, image_url, image_small_url, last_modified_t, last_modified_datetime"
   ]
  },
  {
   "cell_type": "code",
   "execution_count": null,
   "id": "b8db8b49",
   "metadata": {},
   "outputs": [],
   "source": [
    "data.drop([\"url\", \"creator\", \"created_t\",\"image_url\",\"image_small_url\", \"last_modified_t\", \"last_modified_datetime\"], axis=1, inplace=True)"
   ]
  },
  {
   "cell_type": "markdown",
   "id": "caa39662",
   "metadata": {},
   "source": [
    "Ensuite, nous pouvons supprimer les variables avec des données uniques."
   ]
  },
  {
   "cell_type": "code",
   "execution_count": null,
   "id": "6f743e61",
   "metadata": {},
   "outputs": [],
   "source": [
    "data=pk.data_uniqueone_string(data)"
   ]
  },
  {
   "cell_type": "code",
   "execution_count": null,
   "id": "8827b347",
   "metadata": {},
   "outputs": [],
   "source": [
    "data.shape"
   ]
  },
  {
   "cell_type": "markdown",
   "id": "8c572f78",
   "metadata": {},
   "source": [
    "A présent, nous pouvons tracer la matrice des données manquantes pour mieux observer ces valeurs."
   ]
  },
  {
   "cell_type": "code",
   "execution_count": null,
   "id": "7050b9dc",
   "metadata": {},
   "outputs": [],
   "source": [
    "pk.matrix_vm(data, (16,8), (0.60, 0.64, 0.49))"
   ]
  },
  {
   "cell_type": "markdown",
   "id": "633cf5a9",
   "metadata": {},
   "source": [
    "Il reste beaucoup de données manquantes. Mais nous pouvons créer des catégories N.A pour les variables qualitatives"
   ]
  },
  {
   "cell_type": "code",
   "execution_count": null,
   "id": "15e70da2",
   "metadata": {},
   "outputs": [],
   "source": [
    "pk.data_fillNA_string(data, \"AUTRES\")"
   ]
  },
  {
   "cell_type": "code",
   "execution_count": null,
   "id": "2923b1fb",
   "metadata": {},
   "outputs": [],
   "source": [
    "pk.matrix_vm(data, (14,8), (0.82, 0.28, 0.09))"
   ]
  },
  {
   "cell_type": "markdown",
   "id": "0956ea51",
   "metadata": {},
   "source": [
    "Il semble que des colonnes avec plus de 50% de données manquantes soient encore présentes.\n",
    "Regardons de plus près ces colonnes."
   ]
  },
  {
   "cell_type": "code",
   "execution_count": null,
   "id": "db4150aa",
   "metadata": {},
   "outputs": [],
   "source": [
    "missing_value_df = pk.data_missingTab(data)"
   ]
  },
  {
   "cell_type": "code",
   "execution_count": null,
   "id": "86321207",
   "metadata": {},
   "outputs": [],
   "source": [
    "def graph_int_bar(data_i, x_i, y_i, x_label_i, y_label_i, palette_color_i, title_i):\n",
    "    \n",
    "    fig = px.bar(ms, x=x_i, y=y_i, color=y_i, \n",
    "             labels={x_i:x_label_i,y_i:y_label_i},\n",
    "              color_continuous_scale=palette_color_i)\n",
    "    fig.update_layout(\n",
    "        title_text=title_i, # title of plot\n",
    "    )\n",
    "    fig.show()"
   ]
  },
  {
   "cell_type": "code",
   "execution_count": null,
   "id": "ce925eab",
   "metadata": {},
   "outputs": [],
   "source": [
    "ms =missing_value_df.loc[missing_value_df[\"percent_missing\"]>50]\n",
    "graph_int_bar(ms, 'column_name', 'percent_missing', \"Variables\", \"% - Valeurs manquantes\", \"fall\", \"Variables avec plus de 50% de valeurs manquantes\")"
   ]
  },
  {
   "cell_type": "markdown",
   "id": "0383b546",
   "metadata": {},
   "source": [
    "Nous décidons de supprimer ces colonnes."
   ]
  },
  {
   "cell_type": "code",
   "execution_count": null,
   "id": "2692aa35",
   "metadata": {},
   "outputs": [],
   "source": [
    "pk.del_Nan(data, 0.5,1, 2)"
   ]
  },
  {
   "cell_type": "markdown",
   "id": "53bdcd1e",
   "metadata": {},
   "source": [
    "Regardons les données manquantes restantes."
   ]
  },
  {
   "cell_type": "code",
   "execution_count": null,
   "id": "955d3d08",
   "metadata": {},
   "outputs": [],
   "source": [
    "missing_value_df = pk.data_missingTab(data)\n",
    "ms =missing_value_df.loc[missing_value_df[\"percent_missing\"]>0]\n",
    "graph_int_bar(ms, 'column_name', 'percent_missing', \"Variables\", \"% - Valeurs manquantes\", \"fall\", \"Répartition des variables en fonction de leur pourcentage de valeurs manquantes\")"
   ]
  },
  {
   "cell_type": "markdown",
   "id": "adc9062c",
   "metadata": {},
   "source": [
    "Il reste peu de données manquantes. \n",
    "\n",
    "Nous conservons nos données telle quelle pour ne pas perdre d'information."
   ]
  },
  {
   "cell_type": "markdown",
   "id": "5e25430c",
   "metadata": {},
   "source": [
    "Regardons quelques statistiques descriptives sur nos variables restantes."
   ]
  },
  {
   "cell_type": "code",
   "execution_count": null,
   "id": "598143e1",
   "metadata": {},
   "outputs": [],
   "source": [
    "data.describe()"
   ]
  },
  {
   "cell_type": "code",
   "execution_count": null,
   "id": "eee3f159",
   "metadata": {},
   "outputs": [],
   "source": [
    "data[data.select_dtypes(include=['object', 'string']).columns].describe()"
   ]
  },
  {
   "cell_type": "markdown",
   "id": "4cd63607",
   "metadata": {},
   "source": [
    "Renommons les variables qui contiennent des tirets."
   ]
  },
  {
   "cell_type": "code",
   "execution_count": null,
   "id": "d1da0a31",
   "metadata": {},
   "outputs": [],
   "source": [
    "data = data.rename(columns={'saturated-fat_100g': 'saturated_fat_100g', \n",
    "                       'nutrition-score-fr_100g': 'nutrition_score_fr_100g'})"
   ]
  },
  {
   "cell_type": "code",
   "execution_count": null,
   "id": "f833c948",
   "metadata": {},
   "outputs": [],
   "source": [
    "data.shape"
   ]
  },
  {
   "cell_type": "markdown",
   "id": "b56fc080",
   "metadata": {},
   "source": [
    "Nous avons conservé 41 colonnes.\n",
    "Passons au nettoyage de nos données."
   ]
  },
  {
   "cell_type": "markdown",
   "id": "07c0a4c6",
   "metadata": {},
   "source": [
    "## Nettoyage des données"
   ]
  },
  {
   "cell_type": "markdown",
   "id": "d1453354",
   "metadata": {},
   "source": [
    "### Détection des doublons"
   ]
  },
  {
   "cell_type": "markdown",
   "id": "02708b97",
   "metadata": {},
   "source": [
    "Vérifions s'ils existent des doublons (toutes les colonnes identiques), mettons d'abord toutes les catégories en majuscule."
   ]
  },
  {
   "cell_type": "code",
   "execution_count": null,
   "id": "d956cd45",
   "metadata": {},
   "outputs": [],
   "source": [
    "data=pk.data_majuscule(data)"
   ]
  },
  {
   "cell_type": "code",
   "execution_count": null,
   "id": "9f0d7654",
   "metadata": {},
   "outputs": [],
   "source": [
    "data.duplicated().sum()"
   ]
  },
  {
   "cell_type": "markdown",
   "id": "4b2ffa22",
   "metadata": {},
   "source": [
    "On considère comme produit identique les lignes qui ont le même nom de produit et le même code barre.\n",
    "En effet, il est noté que des articles différents peuvent avoir le même code barre."
   ]
  },
  {
   "cell_type": "code",
   "execution_count": null,
   "id": "34290fdb",
   "metadata": {},
   "outputs": [],
   "source": [
    "data[['code', 'product_name']].duplicated().sum()"
   ]
  },
  {
   "cell_type": "markdown",
   "id": "9cbc6b90",
   "metadata": {},
   "source": [
    "Regardons ces doublons"
   ]
  },
  {
   "cell_type": "code",
   "execution_count": null,
   "id": "3576380d",
   "metadata": {},
   "outputs": [],
   "source": [
    "data_doublons = data.loc[data[['code', 'product_name']].duplicated(keep=False),:]"
   ]
  },
  {
   "cell_type": "code",
   "execution_count": null,
   "id": "2d39af69",
   "metadata": {},
   "outputs": [],
   "source": [
    "data_doublons"
   ]
  },
  {
   "cell_type": "markdown",
   "id": "f6cd0a25",
   "metadata": {},
   "source": [
    "Ces produits ne sont pas forcément des doublons car ils ne contiennent pas de code identifiant les produits.\n",
    "\n",
    "Cependant, Le nom  des produits semblent correspondre au pays de provenance et ces lignes ne contiennent pas beaucoup d'informations. Nous observons beaucoup de valeurs manquantes.\n",
    "\n",
    "Nous décidons de supprimer ces lignes afin de ne pas fausser nos résultats car il semble que la saisie de ces produits ait été mal réalisée."
   ]
  },
  {
   "cell_type": "markdown",
   "id": "d4419293",
   "metadata": {},
   "source": [
    "Faisons une jointure entre notre dataframe de base et notre dataframe qui contient les lignes mal renseignées."
   ]
  },
  {
   "cell_type": "code",
   "execution_count": null,
   "id": "3928ab6e",
   "metadata": {},
   "outputs": [],
   "source": [
    "data_result = pd.merge(data, data_doublons, on=[\"code\", \"product_name\"], how=\"outer\", indicator=True,  suffixes=('', '_del') )"
   ]
  },
  {
   "cell_type": "markdown",
   "id": "9fc6d1e5",
   "metadata": {},
   "source": [
    "Maintenant que nous avons identifié ces lignes dans le dataframe de base, on peut les supprimer."
   ]
  },
  {
   "cell_type": "code",
   "execution_count": null,
   "id": "7bef272d",
   "metadata": {},
   "outputs": [],
   "source": [
    "data_result = data_result.loc[data_result[\"_merge\"] == \"left_only\"].drop(\"_merge\", axis=1)"
   ]
  },
  {
   "cell_type": "markdown",
   "id": "4d7ba7c5",
   "metadata": {},
   "source": [
    "Conservons les colonnes de notre dataframe de base."
   ]
  },
  {
   "cell_type": "code",
   "execution_count": null,
   "id": "8e4c7247",
   "metadata": {},
   "outputs": [],
   "source": [
    "data_result = data_result[[c for c in data_result.columns if not c.endswith('_del')]]"
   ]
  },
  {
   "cell_type": "code",
   "execution_count": null,
   "id": "7e9c7b5d",
   "metadata": {},
   "outputs": [],
   "source": [
    "data=data_result"
   ]
  },
  {
   "cell_type": "code",
   "execution_count": null,
   "id": "83bad42f",
   "metadata": {},
   "outputs": [],
   "source": [
    "data[['code', 'product_name']].duplicated().sum()"
   ]
  },
  {
   "cell_type": "code",
   "execution_count": null,
   "id": "2f959e50",
   "metadata": {},
   "outputs": [],
   "source": [
    "data.shape"
   ]
  },
  {
   "cell_type": "markdown",
   "id": "7b9ebe70",
   "metadata": {},
   "source": [
    "Création d'une colonne présence possible d'huile de palme : \n",
    "Nous vérifions s'il y a de l'huile de palme possible et s'il y en a dans les ingredients."
   ]
  },
  {
   "cell_type": "code",
   "execution_count": null,
   "id": "d8bdcde3",
   "metadata": {},
   "outputs": [],
   "source": [
    "data.loc[data.ingredients_text.str.contains('PALM')==True  , \"ingredients_from_palm_oil\"]=\"OUI\"\n",
    "data.loc[data.ingredients_from_palm_oil_n>=1, \"ingredients_from_palm_oil\" ]=\"OUI\"\n",
    "data.loc[data.ingredients_that_may_be_from_palm_oil_n>=2, \"ingredients_from_palm_oil\" ]=\"OUI\"\n",
    "data['ingredients_from_palm_oil'].fillna(\"NON\", inplace=True)"
   ]
  },
  {
   "cell_type": "code",
   "execution_count": null,
   "id": "218c5cfb",
   "metadata": {},
   "outputs": [],
   "source": [
    "data.info()"
   ]
  },
  {
   "cell_type": "code",
   "execution_count": null,
   "id": "3c0f92a9",
   "metadata": {},
   "outputs": [],
   "source": [
    "pk.matrix_vm(data, (14,8), (0.43,0.51,0.38))"
   ]
  },
  {
   "cell_type": "markdown",
   "id": "9cae7f0b",
   "metadata": {},
   "source": [
    "Supprimons les données qui n'ont aucune colonne quantitatives renseignées (fin _100g).\n",
    "En effet, ces colonnes nous permettront de réaliser notre analyse donc il nous faut au moins une information remplie pour une donnée."
   ]
  },
  {
   "cell_type": "code",
   "execution_count": null,
   "id": "c914ad65",
   "metadata": {},
   "outputs": [],
   "source": [
    "data=data.loc[(pd.isna(data.energy_100g)==False) | (pd.isna(data.carbohydrates_100g)==False) \n",
    "              | (pd.isna(data.proteins_100g)==False) | (pd.isna(data.fat_100g)==False)\n",
    "        | (pd.isna(data[\"saturated_fat_100g\"])==False) | (pd.isna(data[\"fiber_100g\"])==False)\n",
    "         | (pd.isna(data[\"sugars_100g\"])==False)\n",
    "        | (pd.isna(data[\"salt_100g\"])==False)\n",
    "             | (pd.isna(data[\"sodium_100g\"])==False)]"
   ]
  },
  {
   "cell_type": "code",
   "execution_count": null,
   "id": "b1cff2d1",
   "metadata": {},
   "outputs": [],
   "source": [
    "data.shape"
   ]
  },
  {
   "cell_type": "markdown",
   "id": "6d5bb920",
   "metadata": {},
   "source": [
    "Il reste encore certaines données manquantes, mais les individus apportent suffisamment d'informations pour les conserver. \n",
    "\n",
    "Passons à la prochaine étape : Etudions chacune de nos variables."
   ]
  },
  {
   "cell_type": "markdown",
   "id": "3d20caba",
   "metadata": {},
   "source": [
    "# Exploration des données"
   ]
  },
  {
   "cell_type": "markdown",
   "id": "f7074679",
   "metadata": {},
   "source": [
    "### Variables quantitatives"
   ]
  },
  {
   "cell_type": "code",
   "execution_count": null,
   "id": "69873daf",
   "metadata": {},
   "outputs": [],
   "source": [
    "data.describe().round(2)"
   ]
  },
  {
   "cell_type": "markdown",
   "id": "cc9e5d70",
   "metadata": {},
   "source": [
    "il semble qu'il y a ait des données aberrantes. Nous avons des données négatives pour certaines variables.\n",
    "Et nous avons des maximums étonnant comparés au 3ème quartile. Même si l'écart-type n'est pas très important."
   ]
  },
  {
   "cell_type": "markdown",
   "id": "c9352856",
   "metadata": {},
   "source": [
    "#### Etudes des valeurs aberrantes"
   ]
  },
  {
   "cell_type": "markdown",
   "id": "6a645093",
   "metadata": {},
   "source": [
    "Traçons des stripplots pour toutes nos variables quantitatives. Ces graphiques permettent plus facilement d'observer les valeurs extrêmes pour de grands volumes de données."
   ]
  },
  {
   "cell_type": "code",
   "execution_count": null,
   "id": "8dee620f",
   "metadata": {},
   "outputs": [],
   "source": [
    "for col in data.select_dtypes(include=['float64']).columns:\n",
    "    pk.graph_stripplot(data,col, \"Nuage de point de la variable \"+col,(5,3),\"#6D8260\")"
   ]
  },
  {
   "cell_type": "markdown",
   "id": "999ef003",
   "metadata": {},
   "source": [
    "Nous observons des données extrêmes dites données aberrantes pour presque toutes nos variables.\n",
    "\n",
    "Pour rappel, les valeurs aberrantes sont des données qui ne sont pas anodines pour le jeu de données dont on dispose.\n",
    "\n",
    "Commençons par essayer de supprimer ces données grâce aux informations sur internet.\n",
    "Nous découvrons que l'aliment le plus calorique contient 900 calories. Nous pouvons donc supprimer les données supérieures ou égales à 901 calories.\n",
    "\n",
    "source : https://sante.journaldesfemmes.fr/calories/classement/aliments/calories (provenant de l'Anses)"
   ]
  },
  {
   "cell_type": "code",
   "execution_count": null,
   "id": "4e4069db",
   "metadata": {},
   "outputs": [],
   "source": [
    "data=pk.delete_outliers_UPPER(data, data['energy_100g'], 901)"
   ]
  },
  {
   "cell_type": "markdown",
   "id": "6679b98a",
   "metadata": {},
   "source": [
    "Pour l'instant pour chacunes de ces colonnes, nous pouvons supprimer toutes les données supérieures à la portion de 100g et inférieures à 0."
   ]
  },
  {
   "cell_type": "markdown",
   "id": "0f006ff4",
   "metadata": {},
   "source": [
    "Nous pourrions calculer l'écart-interquartile, mais celui-ci ne serait pas adapté à ces données. En effet certains aliments peuvent être très proche de 100g et d'autres proche de 0.\n",
    "\n",
    "Calculons quand même un exemple pour la variable energy_100g"
   ]
  },
  {
   "cell_type": "code",
   "execution_count": null,
   "id": "ad5b99ce",
   "metadata": {},
   "outputs": [],
   "source": [
    "pk.outliers(data, data['energy_100g'],0)"
   ]
  },
  {
   "cell_type": "markdown",
   "id": "27b03d93",
   "metadata": {},
   "source": [
    "Nous obtenons un écart-interquartile de 1 148 pour la valeur haute (donc largement au-dessus de 901 calories).\n",
    "Et nous obtenons une valeur inférieur à 0 pour les valeurs basses. Ce qui n'est pas possible pour les nutritions d'un aliment.\n",
    "\n",
    "Ce calcul n'est donc pas adaptées à nos données car elles sont irréelles par rapport aux aliments."
   ]
  },
  {
   "cell_type": "markdown",
   "id": "9f4c8487",
   "metadata": {},
   "source": [
    "Supprimons les données supérieures à 100g et inférieurs ou égales à 0 pour les autres \"nutriments\"."
   ]
  },
  {
   "cell_type": "code",
   "execution_count": null,
   "id": "c135a786",
   "metadata": {},
   "outputs": [],
   "source": [
    "data=pk.delete_outliers_UPPER(data, data['carbohydrates_100g'], 100)\n",
    "data=pk.delete_outliers_UPPER(data, data['proteins_100g'], 100)\n",
    "data=pk.delete_outliers_UPPER(data, data['fat_100g'], 100)\n",
    "data=pk.delete_outliers_UPPER(data, data['saturated_fat_100g'], 100)\n",
    "data=pk.delete_outliers_UPPER(data, data['fiber_100g'], 100)\n",
    "data=pk.delete_outliers_UPPER(data, data['sugars_100g'], 100)\n",
    "data=pk.delete_outliers_UPPER(data, data['salt_100g'], 100)\n",
    "\n",
    "data=pk.delete_outliers_LOWER(data, data['energy_100g'], 0)\n",
    "data=pk.delete_outliers_LOWER(data, data['carbohydrates_100g'], 0)\n",
    "data=pk.delete_outliers_LOWER(data, data['proteins_100g'], 0)\n",
    "data=pk.delete_outliers_LOWER(data, data['fat_100g'], 0)\n",
    "data=pk.delete_outliers_LOWER(data, data['saturated_fat_100g'], 0)\n",
    "data=pk.delete_outliers_LOWER(data, data['fiber_100g'], 0)\n",
    "data=pk.delete_outliers_LOWER(data, data['sugars_100g'], 0)\n",
    "data=pk.delete_outliers_LOWER(data, data['salt_100g'], 0)"
   ]
  },
  {
   "cell_type": "markdown",
   "id": "2a8ce819",
   "metadata": {},
   "source": [
    "Retraçons nos stripplot."
   ]
  },
  {
   "cell_type": "code",
   "execution_count": null,
   "id": "7c834a53",
   "metadata": {},
   "outputs": [],
   "source": [
    "for col in data.select_dtypes(include=['float64']).columns:\n",
    "    pk.graph_stripplot(data,col, \"Nuage de point de la variable \"+col,(5,3), (0.82, 0.28, 0.09))"
   ]
  },
  {
   "cell_type": "markdown",
   "id": "e31ad8a5",
   "metadata": {},
   "source": [
    "Regardons plus précisément les variables proteins_100g, saturated-fat_100g, fiber_1100g, il semble qu'il reste des valeurs aberrantes."
   ]
  },
  {
   "cell_type": "markdown",
   "id": "460b6daf",
   "metadata": {},
   "source": [
    "#### Commençons par la variable proteins_100g"
   ]
  },
  {
   "cell_type": "code",
   "execution_count": null,
   "id": "a3ac30b4",
   "metadata": {},
   "outputs": [],
   "source": [
    "def boxplot_int(data_var_i,y_label_i, palette_color_i , mean_i):\n",
    "    layout = Layout(plot_bgcolor='rgba(0,0,0,0)')\n",
    "\n",
    "    # Use that layout here\n",
    "    fig = go.Figure(layout=layout)\n",
    "\n",
    "    fig.update_xaxes(showline=True, linewidth=2, linecolor='#E3E3E3', gridcolor='#E3E3E3', mirror=True )\n",
    "    fig.update_yaxes(showline=True, linewidth=2, linecolor='#E3E3E3', gridcolor='#E3E3E3', mirror=True)\n",
    "\n",
    "    if mean_i==1:\n",
    "        fig.add_trace(go.Box(y=data_var_i,name=y_label_i, \n",
    "                        marker_color = palette_color_i, boxmean='sd'))\n",
    "    else:\n",
    "        fig.add_trace(go.Box(y=data_var_i,name=y_label_i, \n",
    "                        marker_color = palette_color_i))\n",
    "    \n",
    "    fig.update_layout(\n",
    "        title_text=\"Boite à moustache de la variable \"+y_label_i, # title of plot\n",
    "    )\n",
    "    \n",
    "\n",
    "    \n",
    "    fig.show()"
   ]
  },
  {
   "cell_type": "code",
   "execution_count": null,
   "id": "4b26b662",
   "metadata": {},
   "outputs": [],
   "source": [
    "boxplot_int(data.proteins_100g, \"Protéine\", \"indianred\",0 )"
   ]
  },
  {
   "cell_type": "markdown",
   "id": "5f43e974",
   "metadata": {},
   "source": [
    "L'aliment le plus protéiné est : gélatine alimentaire\t87,6 g\n",
    "\n",
    "\n",
    "source : https://sante.journaldesfemmes.fr/calories/classement/aliments/proteines"
   ]
  },
  {
   "cell_type": "markdown",
   "id": "c8395afc",
   "metadata": {},
   "source": [
    "Supprimons les données qui ont des protéines supérieures à 89g."
   ]
  },
  {
   "cell_type": "code",
   "execution_count": null,
   "id": "72475636",
   "metadata": {},
   "outputs": [],
   "source": [
    "data = data.loc[data[\"proteins_100g\"]<=89]"
   ]
  },
  {
   "cell_type": "markdown",
   "id": "9059d532",
   "metadata": {},
   "source": [
    "Regardons à nouveau la boxenplot de la variable proteins_100g."
   ]
  },
  {
   "cell_type": "code",
   "execution_count": null,
   "id": "1a857446",
   "metadata": {},
   "outputs": [],
   "source": [
    "boxplot_int(data.proteins_100g, \"Protéine\", \"indianred\",1 )"
   ]
  },
  {
   "cell_type": "markdown",
   "id": "db493cea",
   "metadata": {},
   "source": [
    "Il reste quelques valeurs extrêmes mais elles sont cohérentes, donc on les conserve pour ne pas perdre d'information.\n",
    "\n",
    "Les données ne sont pas très dispersées la boite à moustache est aplatie."
   ]
  },
  {
   "cell_type": "markdown",
   "id": "9b290826",
   "metadata": {},
   "source": [
    "#### Regardons à présent la variable saturated-fat_100g"
   ]
  },
  {
   "cell_type": "markdown",
   "id": "6707992d",
   "metadata": {},
   "source": [
    "Nous savons que l'aliment qui contient le plus d'acide gras saturés est : pain de friture\t92,6 g"
   ]
  },
  {
   "cell_type": "markdown",
   "id": "e32a21d2",
   "metadata": {},
   "source": [
    "source: https://sante.journaldesfemmes.fr/calories/classement/aliments/acides-gras-satures"
   ]
  },
  {
   "cell_type": "code",
   "execution_count": null,
   "id": "9fe47142",
   "metadata": {},
   "outputs": [],
   "source": [
    "data = data.loc[data[\"saturated_fat_100g\"]<=93]"
   ]
  },
  {
   "cell_type": "code",
   "execution_count": null,
   "id": "edc1edec",
   "metadata": {},
   "outputs": [],
   "source": [
    "def graph_int_violin(data_var_i, fillcolor_i, x_label_i):\n",
    "    layout = Layout(plot_bgcolor='rgba(0,0,0,0)')\n",
    "\n",
    "    # Use that layout here\n",
    "    fig = go.Figure(data=go.Violin(y=data_var_i, box_visible=True, line_color='black',\n",
    "                               meanline_visible=True, fillcolor=fillcolor_i, opacity=0.6,\n",
    "                               x0=x_label_i), layout=layout)\n",
    "\n",
    "\n",
    "    fig.update_xaxes(showline=True, linewidth=2, linecolor='#E3E3E3', gridcolor='#E3E3E3', mirror=True )\n",
    "    fig.update_yaxes(showline=True, linewidth=2, linecolor='#E3E3E3', gridcolor='#E3E3E3', mirror=True)\n",
    "\n",
    "    \n",
    "    fig.update_layout(title_text=\"Violinplot de la variable \"+x_label_i, yaxis_zeroline=False)\n",
    "    fig.show()"
   ]
  },
  {
   "cell_type": "code",
   "execution_count": null,
   "id": "e20b521f",
   "metadata": {},
   "outputs": [],
   "source": [
    "graph_int_violin(data['saturated_fat_100g'], \"#6D8260\", \"saturated_fat_100g\")"
   ]
  },
  {
   "cell_type": "markdown",
   "id": "e6d9393a",
   "metadata": {},
   "source": [
    "Il reste des données extrêmes. Mais elles sont cohérentes. Donc nous allons les conserver."
   ]
  },
  {
   "cell_type": "markdown",
   "id": "394825d5",
   "metadata": {},
   "source": [
    "#### Etudions la variable fiber_100g"
   ]
  },
  {
   "cell_type": "markdown",
   "id": "d2f3e98c",
   "metadata": {},
   "source": [
    "Pour information, l'aliment le plus riche en fibre est la cannelle avec 43,5g (pour 100g)."
   ]
  },
  {
   "cell_type": "markdown",
   "id": "f68d71d0",
   "metadata": {},
   "source": [
    "source: https://sante.journaldesfemmes.fr/calories/classement/aliments/fibres"
   ]
  },
  {
   "cell_type": "code",
   "execution_count": null,
   "id": "8c4b784f",
   "metadata": {},
   "outputs": [],
   "source": [
    "data = data.loc[data[\"fiber_100g\"]<=45]"
   ]
  },
  {
   "cell_type": "markdown",
   "id": "2cfdd599",
   "metadata": {},
   "source": [
    "Traçons un violinplot pour observer ces modifications"
   ]
  },
  {
   "cell_type": "code",
   "execution_count": null,
   "id": "63a16ee6",
   "metadata": {},
   "outputs": [],
   "source": [
    "graph_int_violin(data['fiber_100g'], \"#6D8260\", \"fiber_100g\")"
   ]
  },
  {
   "cell_type": "markdown",
   "id": "39b86bf2",
   "metadata": {},
   "source": [
    "Nous observons que nos données sont concentrées en bas du violinplot.\n",
    "\n",
    "#### Passons à la variable salt_100g"
   ]
  },
  {
   "cell_type": "markdown",
   "id": "162b89b3",
   "metadata": {},
   "source": [
    "Traçons un boxenplot qui est comme une boite à moustache sauf qu'il a plus de quantiles."
   ]
  },
  {
   "cell_type": "code",
   "execution_count": null,
   "id": "5fd94c98",
   "metadata": {},
   "outputs": [],
   "source": [
    "pk.graph_boxenplot(data, \"salt_100g\", (0.82, 0.28, 0.09),\"Boxenplot du sel contenu (sur 100g) dans les aliments\",(8,6))"
   ]
  },
  {
   "cell_type": "markdown",
   "id": "0da96159",
   "metadata": {},
   "source": [
    "Nous observons que les données sont regroupées à gauche du graphique. Il y a des valeurs très extrêmes."
   ]
  },
  {
   "cell_type": "markdown",
   "id": "d946632d",
   "metadata": {},
   "source": [
    "L'aliment le plus riche en sel est : sel non iodé non fluoré avec 39100 mg\n",
    "\n",
    "source : https://sante.journaldesfemmes.fr/calories/classement/aliments/sel"
   ]
  },
  {
   "cell_type": "markdown",
   "id": "7077cda3",
   "metadata": {},
   "source": [
    "Supprimons les données supérieurs à 41g."
   ]
  },
  {
   "cell_type": "code",
   "execution_count": null,
   "id": "afebfecd",
   "metadata": {},
   "outputs": [],
   "source": [
    "data = data.loc[data[\"salt_100g\"]<=40]"
   ]
  },
  {
   "cell_type": "code",
   "execution_count": null,
   "id": "112e2e92",
   "metadata": {},
   "outputs": [],
   "source": [
    "boxplot_int(data.salt_100g, \"salt_100g\", \"indianred\",1 )"
   ]
  },
  {
   "cell_type": "markdown",
   "id": "6ad54df0",
   "metadata": {},
   "source": [
    "Il reste des valeurs extrêmes mais nous les conservons car elles sont réelles."
   ]
  },
  {
   "cell_type": "markdown",
   "id": "1df49c36",
   "metadata": {},
   "source": [
    "#### Maintenant que nous avons supprimé nos données aberrantes, nous pouvons recalculer nos statistiques et retracer des violinplots"
   ]
  },
  {
   "cell_type": "code",
   "execution_count": null,
   "id": "07255eb4",
   "metadata": {},
   "outputs": [],
   "source": [
    "for col in data.select_dtypes(include=['float64']).columns:\n",
    "    pk.graph_boxplot(data, col, \"Boite à moustache de la variable \"+col, \"#6D8260\", (14,8))"
   ]
  },
  {
   "cell_type": "code",
   "execution_count": null,
   "id": "a64fd0d7",
   "metadata": {},
   "outputs": [],
   "source": [
    "data.describe().round(2)"
   ]
  },
  {
   "cell_type": "markdown",
   "id": "390f87c9",
   "metadata": {},
   "source": [
    "On a des données à -15 pour les nutritions score, mais cela est possible.\n",
    "source : https://www.santepubliquefrance.fr/media/files/02-determinants-de-sante/nutrition-et-activite-physique/nutri-score/qr-scientifique-technique-en => voir page 27\n",
    "\n",
    "Le min est -15 et le max 40.\n",
    "\n",
    "Nous remarquons que les écart-type de nos variables sont assez faibles et que les boites à moustache sont toutes assez resserrées. Ainsi, nos données sont peu dispersées au sein de nos variables quantitatives."
   ]
  },
  {
   "cell_type": "markdown",
   "id": "d6de6287",
   "metadata": {},
   "source": [
    "Nous apprenons plusieurs informations sur nos aliments (sur 100g) :\n",
    "- 75% des aliments contiennent moins de 2 additifs et non pas d'huile de palme\n",
    "- 50% des aliments apportent plus de 362 calories (energie en calorie)\n",
    "- 75 % des aliments contiennent moins de 5g de matières grasses et moins de 1.60g de matières grasses saturées\n",
    "- 25% des aliments contiennent moins de 4.20g de carbohydrates\n",
    "- 50% des aliments contiennent moins de 3.50g de sucres et moins de 0.46g de sels\n",
    "- 25% des aliments ont moins de 0.03g de sodium\n",
    "- 75% des aliments ont moins de 1.90g de fibres et moins de 6.59g de protéines\n",
    "\n",
    "De plus, nous savons que 75% de nos aliments ont une note au nutriscore fr inférieure à 5 et que le maximum est 32."
   ]
  },
  {
   "cell_type": "markdown",
   "id": "f14ddda3",
   "metadata": {},
   "source": [
    "#### Maintenant, étudions les distributions de nos différentes variables."
   ]
  },
  {
   "cell_type": "code",
   "execution_count": null,
   "id": "08798c16",
   "metadata": {},
   "outputs": [],
   "source": [
    "def hist_int(data_var_i, color_i, title_i, x_label_i, y_label_i):\n",
    "    layout = Layout(plot_bgcolor='rgba(0,0,0,0)')\n",
    "    \n",
    "    fig = go.Figure(layout=layout)\n",
    "    fig.add_trace(go.Histogram(\n",
    "        x=data[data_var_i],\n",
    "        name='control', # name used in legend and hover labels\n",
    "        xbins=dict( # bins used for histogram\n",
    "            start=0,\n",
    "            end=24,\n",
    "            size=4\n",
    "        ),\n",
    "        marker_color=color_i,\n",
    "        opacity=0.75\n",
    "    ))\n",
    "\n",
    "    fig.update_layout(\n",
    "        title_text=title_i, # title of plot\n",
    "        xaxis_title_text=x_label_i, # xaxis label\n",
    "        yaxis_title_text=y_label_i, # yaxis label\n",
    "        bargap=0, # gap between bars of adjacent location coordinates\n",
    "        bargroupgap=0 # gap between bars of the same location coordinates\n",
    "    )\n",
    "    \n",
    "\n",
    "    fig.update_xaxes(showline=True, linewidth=2, linecolor='#E3E3E3', gridcolor='#E3E3E3', mirror=True )\n",
    "    fig.update_yaxes(showline=True, linewidth=2, linecolor='#E3E3E3', gridcolor='#E3E3E3', mirror=True)\n",
    "    \n",
    "    \n",
    "    fig.show()"
   ]
  },
  {
   "cell_type": "code",
   "execution_count": null,
   "id": "3fce0c0e",
   "metadata": {},
   "outputs": [],
   "source": [
    "for col in data.select_dtypes(include=['float64']).columns:\n",
    "    hist_int(col, \"#AB2300\", \"Distribution des aliments en fonction de la variable \"+col, col, \"Fréquence\")"
   ]
  },
  {
   "cell_type": "markdown",
   "id": "17882662",
   "metadata": {},
   "source": [
    "Nous remarquons que la majorité des distributions des variables sont asymétriques vers la gauche, excepté pour la varible energy_100g qui est plus aplatie."
   ]
  },
  {
   "cell_type": "markdown",
   "id": "62ac3105",
   "metadata": {},
   "source": [
    "#### Réalisons un Test de skewness pour confirmer.\n",
    "\n",
    "Pour rappel : \n",
    "- Si y1=0 alors la distribution est symétrique.\n",
    "- Si y1>0 alors la distribution est étalée à droite.\n",
    "- Si y1<0 alors la distribution est étalée à gauche."
   ]
  },
  {
   "cell_type": "code",
   "execution_count": null,
   "id": "6b3eef83",
   "metadata": {},
   "outputs": [],
   "source": [
    "for col in data.select_dtypes(include=['float64']).columns:\n",
    "    data_i=data[col].loc[pd.isna(data[col])==False]\n",
    "    print(\"Variable : \"+col+\" ----- y1=\"+ str(data[col].skew()))"
   ]
  },
  {
   "cell_type": "markdown",
   "id": "107b2075",
   "metadata": {},
   "source": [
    "Le test de Skewness confirme ce que nous savons vu grâce au histogramme, les distributions sont étalées à droite."
   ]
  },
  {
   "cell_type": "markdown",
   "id": "a5edb7e8",
   "metadata": {},
   "source": [
    "#### Vérifions comment nos variables se comportent par rapport à la loi normale grêce au test de kurtosis.\n",
    "\n",
    "Si γ2=0 , alors la distribution a le même aplatissement que la distribution normale.\n",
    "\n",
    "Si γ2>0 , alors elle est moins aplatie que la distribution normale : les observations sont plus concentrées.\n",
    "\n",
    "Si γ2<0 , alors les observations sont moins concentrées : la distribution est plus aplatie."
   ]
  },
  {
   "cell_type": "code",
   "execution_count": null,
   "id": "a64a913c",
   "metadata": {},
   "outputs": [],
   "source": [
    "for col in data.select_dtypes(include=['float64']).columns:\n",
    "    data_i=data[col].loc[pd.isna(data[col])==False]\n",
    "    print(\"Variable : \"+col+\" -- y2=\"+ str(data[col].kurtosis()))"
   ]
  },
  {
   "cell_type": "markdown",
   "id": "eaacf9e9",
   "metadata": {},
   "source": [
    "Nos données sont toutes plus concentrées que la loi normale.\n",
    "\n",
    "#### Faisons un test pour vérifier que nos distributions ne suivent pas une loi normale."
   ]
  },
  {
   "cell_type": "markdown",
   "id": "b809e843",
   "metadata": {},
   "source": [
    "Pour rappel, les hypothèse de du test de la loi normal est :\n",
    "- h0 = la distribution est normale. (p-value > 0.05)\n",
    "- h1 = la distribution n'est pas normale. (p-value < 0.05)"
   ]
  },
  {
   "cell_type": "code",
   "execution_count": null,
   "id": "0fbe3dce",
   "metadata": {},
   "outputs": [],
   "source": [
    "for col in data.select_dtypes(include=['float64']).columns:\n",
    "    data_i=data[col].loc[pd.isna(data[col])==False]\n",
    "    print(\"Variable: \"+col+\" ----- \"+ str(scipy.stats.normaltest(data_i)))"
   ]
  },
  {
   "cell_type": "markdown",
   "id": "9bd83795",
   "metadata": {},
   "source": [
    "Nous rejetons H0 pour toutes nos variables, la p-value est inférieure à 0.05.\n",
    "Nos distributions ne suivent pas une loi normale."
   ]
  },
  {
   "cell_type": "markdown",
   "id": "20f55cf1",
   "metadata": {},
   "source": [
    "### Créons des regroupements afin que nos distributions soient mieux réparties et que nos variables soient plus pertinentes pour la suite.\n",
    "\n",
    "Nous appliquerons un système de note en fonction des intervalles : \n",
    "- si l'apport nutritionnel fait partie des aliments dit positifs : -6, -4,-2,0,2,4,6,8,10 ...Etc\n",
    "- si l'apport nutritionnel fait partie des aliments dit négatifs : 2,4,6,8,10..Etc"
   ]
  },
  {
   "cell_type": "markdown",
   "id": "007212ae",
   "metadata": {},
   "source": [
    "#### Commençons par la variable additives_n"
   ]
  },
  {
   "cell_type": "code",
   "execution_count": null,
   "id": "3e896c54",
   "metadata": {},
   "outputs": [],
   "source": [
    "pk.graph_hist(data[\"additives_n\"],[0,2,4,6,8,10,24] ,\"Distribution des produits en fonction de la variable additives_n\",\n",
    "              \"#6D8260\", 0,24, 2, 0, 50000, \"additives_n\", 'Fréquences',(11,7))"
   ]
  },
  {
   "cell_type": "code",
   "execution_count": null,
   "id": "3dc774a1",
   "metadata": {},
   "outputs": [],
   "source": [
    "def reg_add(x):\n",
    "    if x<1:\n",
    "        return 0\n",
    "    elif x>=1 and x<2:\n",
    "        return 2\n",
    "    elif x>=2 and x<4:\n",
    "        return 4\n",
    "    elif x>=4 and x<6:\n",
    "        return 6\n",
    "    elif x>=6 and x<8:\n",
    "        return 8\n",
    "    elif x>=8:\n",
    "        return 10"
   ]
  },
  {
   "cell_type": "code",
   "execution_count": null,
   "id": "dacb39f3",
   "metadata": {},
   "outputs": [],
   "source": [
    "data['reg_additives']=data.apply(lambda row: reg_add(row.additives_n), axis=1)"
   ]
  },
  {
   "cell_type": "code",
   "execution_count": null,
   "id": "c4f8ddff",
   "metadata": {},
   "outputs": [],
   "source": [
    "pk.graph_barplot(data['reg_additives'], \"Répartition des aliments en fonction des additifs\", \n",
    "              (0.82, 0.28, 0.09),\n",
    "              0, 70, \"Intervalle - additives\", \"Fréquence en %\",70, 1,(11,7))"
   ]
  },
  {
   "cell_type": "markdown",
   "id": "4524236c",
   "metadata": {},
   "source": [
    "Notre distribution est mieux répartie. Conservons ce regroupement.\n",
    "\n",
    "#### Passons à la variable energy_100g"
   ]
  },
  {
   "cell_type": "code",
   "execution_count": null,
   "id": "d0de1234",
   "metadata": {},
   "outputs": [],
   "source": [
    "pk.graph_hist(data[\"energy_100g\"],[0,200,400,600,800,901], \"Distribution des produits en fonction de la variable energy_100g\",\"#6D8260\",\n",
    "          0,901, 200, 0, 30000 , \"energy_100g\", 'Fréquences',(11,7))"
   ]
  },
  {
   "cell_type": "code",
   "execution_count": null,
   "id": "c97bc0d5",
   "metadata": {},
   "outputs": [],
   "source": [
    "def reg_energy(x):\n",
    "    if x<200:\n",
    "        return 1\n",
    "    elif x>=200 and x<350:\n",
    "        return 2\n",
    "    elif x>=350 and x<500:\n",
    "        return 3\n",
    "    elif x>=500 and x<700:\n",
    "        return 4\n",
    "    elif x>=700:\n",
    "        return 5"
   ]
  },
  {
   "cell_type": "code",
   "execution_count": null,
   "id": "aabd35a4",
   "metadata": {},
   "outputs": [],
   "source": [
    "data['reg_energy']=data.apply(lambda row: reg_energy(row.energy_100g), axis=1)"
   ]
  },
  {
   "cell_type": "code",
   "execution_count": null,
   "id": "e84caf81",
   "metadata": {},
   "outputs": [],
   "source": [
    "pk.graph_barplot(data['reg_energy'], \"Répartition des aliments en fonction des calories\", \n",
    "              (0.82, 0.28, 0.09),\n",
    "              0, 35, \"Classe energie\", \"Fréquence en %\",70, 1,(11,7))"
   ]
  },
  {
   "cell_type": "markdown",
   "id": "da64fb66",
   "metadata": {},
   "source": [
    "Notre distribution est mieux répartie.\n",
    "\n",
    "#### Etudions la distribution de la variable fat_100g"
   ]
  },
  {
   "cell_type": "code",
   "execution_count": null,
   "id": "24b62ca8",
   "metadata": {},
   "outputs": [],
   "source": [
    "pk.graph_hist(data[\"fat_100g\"],[0,5,10,15,20,25,100], \"Distribution des produits en fonction de la variable fat_100g\",\n",
    "              \"#6D8260\", 0,100, 5, 0, 65000 , \"fat_100g\", 'Fréquences',(11,7))"
   ]
  },
  {
   "cell_type": "code",
   "execution_count": null,
   "id": "f82ed437",
   "metadata": {},
   "outputs": [],
   "source": [
    "def reg_fat(x):\n",
    "    if x<1:\n",
    "        return 0\n",
    "    elif x>=1 and x<4:\n",
    "        return 2\n",
    "    elif x>=4 and x<6:\n",
    "        return 3\n",
    "    elif x>=6 and x<10:\n",
    "        return 4\n",
    "    elif x>=10:\n",
    "        return 5"
   ]
  },
  {
   "cell_type": "code",
   "execution_count": null,
   "id": "ffb9a86d",
   "metadata": {},
   "outputs": [],
   "source": [
    "data['reg_fat']=data.apply(lambda row: reg_fat(row.fat_100g), axis=1)"
   ]
  },
  {
   "cell_type": "code",
   "execution_count": null,
   "id": "3a0f1402",
   "metadata": {},
   "outputs": [],
   "source": [
    "pk.graph_barplot(data['reg_fat'], \"Répartition des aliments en fonction des matières grasses\", \n",
    "              (0.82, 0.28, 0.09),\n",
    "              0, 50, \"Classe fat_100g\", \"Fréquence en %\",70, 1,(11,7))"
   ]
  },
  {
   "cell_type": "markdown",
   "id": "2b631389",
   "metadata": {},
   "source": [
    "Nous validons ce regroupement.\n",
    "\n",
    "#### Passons à la variable saturated_fat_100g"
   ]
  },
  {
   "cell_type": "code",
   "execution_count": null,
   "id": "928fa1d3",
   "metadata": {},
   "outputs": [],
   "source": [
    "pk.graph_hist(data[\"saturated_fat_100g\"],[0,4,8,90], \"Distribution des produits en fonction de la variable fat_100g\",\n",
    "             \"#6D8260\",\n",
    "          0,100, 5, 0, 85000 , \"saturated_fat_100g\", 'Fréquences',(11,7))"
   ]
  },
  {
   "cell_type": "code",
   "execution_count": null,
   "id": "a71c517c",
   "metadata": {},
   "outputs": [],
   "source": [
    "def reg_saturated_fat(x):\n",
    "    if x<=0:\n",
    "        return -1\n",
    "    elif x>=1 and x<4:\n",
    "        return 4\n",
    "    elif x>=4 and x<8:\n",
    "        return 8\n",
    "    elif x>=8 and x<40:\n",
    "        return 40\n",
    "    elif x>=40:\n",
    "        return 90"
   ]
  },
  {
   "cell_type": "code",
   "execution_count": null,
   "id": "6194a88e",
   "metadata": {},
   "outputs": [],
   "source": [
    "data['reg_saturated_fat']=data.apply(lambda row: reg_saturated_fat(row.saturated_fat_100g), axis=1)"
   ]
  },
  {
   "cell_type": "code",
   "execution_count": null,
   "id": "340d10de",
   "metadata": {},
   "outputs": [],
   "source": [
    "pk.graph_barplot(data['reg_saturated_fat'], \"Répartition des aliments en fonction des matières grasses saturées\", \n",
    "              (0.82, 0.28, 0.09),\n",
    "              0, 70, \"Note saturated_fat\", \"Fréquence en %\",70, 1,(11,7))"
   ]
  },
  {
   "cell_type": "markdown",
   "id": "6f197ca7",
   "metadata": {},
   "source": [
    "Nous conservons ce regroupement."
   ]
  },
  {
   "cell_type": "markdown",
   "id": "6125e97f",
   "metadata": {},
   "source": [
    "#### Etudions la variable carbohydrates_100g"
   ]
  },
  {
   "cell_type": "code",
   "execution_count": null,
   "id": "4c94b4cd",
   "metadata": {},
   "outputs": [],
   "source": [
    "pk.graph_hist(data[\"carbohydrates_100g\"],[0,5,10,15,20,25,30,35,40,45,50,55,60,65,70,100], \n",
    "              \"Distribution des produits en fonction de la variable carbohydrate_100g\",\n",
    "              \"#6D8260\",\n",
    "          0,100, 15, 0, 25000 , \"carbohydrates_100g\", 'Fréquences',(11,7))"
   ]
  },
  {
   "cell_type": "code",
   "execution_count": null,
   "id": "66a28e09",
   "metadata": {},
   "outputs": [],
   "source": [
    "def reg_carbohydrates(x):\n",
    "    if x<5:\n",
    "        return 1\n",
    "    elif x>=5 and x<10:\n",
    "        return 3\n",
    "    elif x>=15 and  x<25:\n",
    "        return 5\n",
    "    elif x>=25:\n",
    "        return 10"
   ]
  },
  {
   "cell_type": "code",
   "execution_count": null,
   "id": "fe4a166c",
   "metadata": {},
   "outputs": [],
   "source": [
    "data['reg_carbohydrates']=data.apply(lambda row: reg_carbohydrates(row.carbohydrates_100g), axis=1)"
   ]
  },
  {
   "cell_type": "code",
   "execution_count": null,
   "id": "30697e4b",
   "metadata": {},
   "outputs": [],
   "source": [
    "pk.graph_barplot(data['reg_carbohydrates'], \"Répartition des aliments en fonction des carbohydrates\", \n",
    "              (0.82, 0.28, 0.09),\n",
    "              0, 40, \"Note carbohydrates\", \"Fréquence en %\",70, 1,(11,7))"
   ]
  },
  {
   "cell_type": "code",
   "execution_count": null,
   "id": "b44b6877",
   "metadata": {},
   "outputs": [],
   "source": [
    "pk.graph_hist(data[\"fiber_100g\"],[0,1,2,3,4,5,6,7,8,100], \n",
    "              \"Distribution des produits en fonction de la variable fiber_100g\",\n",
    "              \"#6D8260\",\n",
    "          0,100, 15, 0, 45000 , \"fiber_100g\", 'Fréquences',(11,7))"
   ]
  },
  {
   "cell_type": "code",
   "execution_count": null,
   "id": "14e5f69c",
   "metadata": {},
   "outputs": [],
   "source": [
    "def reg_fiber(x):\n",
    "    if x<1:\n",
    "        return 2\n",
    "    elif x>=1 and x<3:\n",
    "        return -3\n",
    "    elif x>=3 and x<5:\n",
    "        return -5\n",
    "    elif x>=5 and x<7:\n",
    "        return -10\n",
    "    elif x>=7:\n",
    "        return -15"
   ]
  },
  {
   "cell_type": "code",
   "execution_count": null,
   "id": "6d091a1d",
   "metadata": {},
   "outputs": [],
   "source": [
    "data['reg_fiber']=data.apply(lambda row: reg_fiber(row.fiber_100g), axis=1)"
   ]
  },
  {
   "cell_type": "code",
   "execution_count": null,
   "id": "f3dee038",
   "metadata": {},
   "outputs": [],
   "source": [
    "pk.graph_barplot(data['reg_fiber'], \"Répartition des aliments en fonction des fibres\", \n",
    "              (0.82, 0.28, 0.09),\n",
    "              0, 60, \"Classe fibres\", \"Fréquence en %\",0, 1,(11,7))"
   ]
  },
  {
   "cell_type": "code",
   "execution_count": null,
   "id": "54d3b24c",
   "metadata": {},
   "outputs": [],
   "source": [
    "pk.graph_hist(data[\"proteins_100g\"],[0,10,15,20,50,100], \n",
    "              \"Distribution des produits en fonction de la variable proteins_100g\",\"#6D8260\",\n",
    "          0,100, 15, 0, 80000 , \"proteins_100g\", 'Fréquences',(11,7))"
   ]
  },
  {
   "cell_type": "code",
   "execution_count": null,
   "id": "1a368863",
   "metadata": {},
   "outputs": [],
   "source": [
    "def reg_protein(x):\n",
    "    if x<=0:\n",
    "        return 4\n",
    "    elif x>=1 and x<2:\n",
    "        return 1\n",
    "    elif x>=2 and x<4:\n",
    "        return 0\n",
    "    elif x>=4 and x<8:\n",
    "        return -3\n",
    "    elif x>=8 and x<15:\n",
    "        return -4\n",
    "    elif x>=15:\n",
    "        return -5\n",
    "data['reg_protein']=data.apply(lambda row: reg_protein(row.proteins_100g), axis=1)\n",
    "pk.graph_barplot(data['reg_protein'], \"Répartition des aliments en fonction des protéines\", \n",
    "              (0.82, 0.28, 0.09),\n",
    "              0, 25, \"Note protéine\", \"Fréquence en %\",0, 1,(11,7))"
   ]
  },
  {
   "cell_type": "markdown",
   "id": "7ae72ac9",
   "metadata": {},
   "source": [
    "Nous utiliserons ce regroupement."
   ]
  },
  {
   "cell_type": "markdown",
   "id": "5e5e1a4a",
   "metadata": {},
   "source": [
    "## Conclusion des variables quantitatives"
   ]
  },
  {
   "cell_type": "markdown",
   "id": "fbbaec24",
   "metadata": {},
   "source": [
    "Nous avons vu que nos données étaient peu dispersées au sein des variables quantitatives.\n",
    "Et que les distributions étaient de forme asymétrique vers la gauche.\n",
    "\n",
    "Nous avons appris que nos aliments étaient assez bien notés au nutriscore fr. En effet, 75% des aliments ont une note inférieure à 5 sachant que le maximum est 41. \n",
    "\n",
    "Nous avons aussi pu décrire plus précisément les nutriments de nos aliments : \n",
    "- 50% des aliments apportent plus de 362 calories (energie en calorie)\n",
    "- 75 % des aliments contiennent moins de 5g de matières grasses et moins de 1.60g de matières grasses saturées\n",
    "- 25% des aliments contiennent moins de 4.20g de carbohydrates\n",
    "- 50% des aliments contiennent moins de 3.50g de sucres et moins de 0.46g de sels\n",
    "- 75% des aliments ont moins de 1.90g de fibres et moins de 6.59g de protéines\n",
    "\n",
    "\n",
    "Nous avons dans notre base de données des aliments peu calorique, peu gras et peu salé. Mais ils contiennent peu de fibre et peu de protéines."
   ]
  },
  {
   "cell_type": "markdown",
   "id": "66996fad",
   "metadata": {},
   "source": [
    "Regardons à présent ce que peut nous apprendre les variables qualitatives sur notre population."
   ]
  },
  {
   "cell_type": "markdown",
   "id": "1ce6ff59",
   "metadata": {},
   "source": [
    "### Variables qualitatives"
   ]
  },
  {
   "cell_type": "code",
   "execution_count": null,
   "id": "47081349",
   "metadata": {},
   "outputs": [],
   "source": [
    "data.info()"
   ]
  },
  {
   "cell_type": "code",
   "execution_count": null,
   "id": "0ea4032e",
   "metadata": {},
   "outputs": [],
   "source": [
    "data[data.select_dtypes(include=['object', 'string']).columns].describe(include='all').round(2)"
   ]
  },
  {
   "cell_type": "markdown",
   "id": "b259eeea",
   "metadata": {},
   "source": [
    "Nous remarquons que la plupart de nos variables qualitatives comportent beaucoup de catégories et que le mode est \"N.A\" (non renseigné).\n",
    "Nous observons aussi que le mode est la modalité B pour le nutriscore Fr et la modalité \"NON\" pour la variable \"ingredients_from_palm_oil\".\n",
    "\n",
    "Etudions chaque variable pour obtenir plus d'information sur leur répartition."
   ]
  },
  {
   "cell_type": "markdown",
   "id": "9445ea32",
   "metadata": {},
   "source": [
    "#### Commençons par la variable product_name"
   ]
  },
  {
   "cell_type": "markdown",
   "id": "45c28569",
   "metadata": {},
   "source": [
    "Cette variable contient quasiment autant d'individus que de catégories. \n",
    "\n",
    "Regardons le top 10."
   ]
  },
  {
   "cell_type": "code",
   "execution_count": null,
   "id": "fc58e9df",
   "metadata": {},
   "outputs": [],
   "source": [
    "data[\"product_name\"].value_counts(normalize=True).head(10)"
   ]
  },
  {
   "cell_type": "markdown",
   "id": "c83fb5fa",
   "metadata": {},
   "source": [
    "Comme nous l'avons remarqué précédemment, nos données sont très dispersées au sein de cette variable."
   ]
  },
  {
   "cell_type": "markdown",
   "id": "c7942d60",
   "metadata": {},
   "source": [
    "#### Regardons la variable quantity"
   ]
  },
  {
   "cell_type": "markdown",
   "id": "a276b604",
   "metadata": {},
   "source": [
    "Cette variable contient 3906 catégories. \n",
    "\n",
    "Pour rappel, ces données nous renseigne sur la quantité contenu dans les produits (avec l'unité utilisé)"
   ]
  },
  {
   "cell_type": "code",
   "execution_count": null,
   "id": "8042cd22",
   "metadata": {},
   "outputs": [],
   "source": [
    "data[\"quantity\"].value_counts(normalize=True).head(10)"
   ]
  },
  {
   "cell_type": "markdown",
   "id": "bdcf892a",
   "metadata": {},
   "source": [
    "La modalité \"AUTRES\" représente 75% des aliments.\n",
    "\n",
    "Retirons cette modalité et regardons à nouveau le top 10."
   ]
  },
  {
   "cell_type": "code",
   "execution_count": null,
   "id": "4fb2e5bb",
   "metadata": {},
   "outputs": [],
   "source": [
    "data_autres=data.loc[data['quantity']!=\"AUTRES\"]"
   ]
  },
  {
   "cell_type": "code",
   "execution_count": null,
   "id": "322d5def",
   "metadata": {},
   "outputs": [],
   "source": [
    "data_autres[\"quantity\"].value_counts(normalize=True).head(10)"
   ]
  },
  {
   "cell_type": "markdown",
   "id": "481e3a31",
   "metadata": {},
   "source": [
    "3.7% des aliments contiennent 300g et 1% des aliments contiennent 600g.\n",
    "\n",
    "Les données sont très éparpillées au sein des modalités et sont à des échelles différentes. Elle nous apporte pas d'information supplémentaire, nous pouvons la supprimer."
   ]
  },
  {
   "cell_type": "code",
   "execution_count": null,
   "id": "726949d2",
   "metadata": {},
   "outputs": [],
   "source": [
    "del data[\"quantity\"]"
   ]
  },
  {
   "cell_type": "markdown",
   "id": "ff906db5",
   "metadata": {},
   "source": [
    "#### Etudions les variables packaging et packaging_tags"
   ]
  },
  {
   "cell_type": "markdown",
   "id": "58eda349",
   "metadata": {},
   "source": [
    "La variable packaging contient 4305 catégories et packaging_tag en contient 3592."
   ]
  },
  {
   "cell_type": "markdown",
   "id": "1701a719",
   "metadata": {},
   "source": [
    "Ces variables contiennent aussi beaucoup de catégorie. Etudions les top 10."
   ]
  },
  {
   "cell_type": "code",
   "execution_count": null,
   "id": "2f6449ee",
   "metadata": {},
   "outputs": [],
   "source": [
    "data[\"packaging\"].value_counts(normalize=True).head(10)"
   ]
  },
  {
   "cell_type": "markdown",
   "id": "f2455e4a",
   "metadata": {},
   "source": [
    "Les données sont très éparpillées au sein des catégories. Et la variable Autres est surreprésentée pour les 2 catégories (78%)\n",
    "Nous pouvons supprimer ces variables"
   ]
  },
  {
   "cell_type": "markdown",
   "id": "08f0d7b7",
   "metadata": {},
   "source": [
    "Excluons la catégorie \"AUTRES\""
   ]
  },
  {
   "cell_type": "code",
   "execution_count": null,
   "id": "4934251d",
   "metadata": {},
   "outputs": [],
   "source": [
    "data_autres=data.loc[data['packaging']!=\"AUTRES\"]\n",
    "data_autres[\"packaging\"].value_counts(normalize=True).head(10)"
   ]
  },
  {
   "cell_type": "code",
   "execution_count": null,
   "id": "2a93d986",
   "metadata": {},
   "outputs": [],
   "source": [
    "data_autres=data.loc[data['packaging_tags']!=\"AUTRES\"]\n",
    "data_autres[\"packaging_tags\"].value_counts(normalize=True).head(10)"
   ]
  },
  {
   "cell_type": "markdown",
   "id": "59098e5a",
   "metadata": {},
   "source": [
    "Les catégories ne sont pas très pertinentes pour ces deux variables. En effet, nous avons 3% des aliments qui sont dans des conserves et 0.09% des aliments qui sont dans des conserves,métal. Nous pouvons les exclure."
   ]
  },
  {
   "cell_type": "code",
   "execution_count": null,
   "id": "b860d0cc",
   "metadata": {},
   "outputs": [],
   "source": [
    "del data[\"packaging\"]\n",
    "del data[\"packaging_tags\"]"
   ]
  },
  {
   "cell_type": "code",
   "execution_count": null,
   "id": "846bb9a3",
   "metadata": {},
   "outputs": [],
   "source": [
    "data[\"brands\"].nunique()"
   ]
  },
  {
   "cell_type": "code",
   "execution_count": null,
   "id": "288c4a05",
   "metadata": {},
   "outputs": [],
   "source": [
    "max(data_autres[\"brands\"].value_counts(normalize=True))"
   ]
  },
  {
   "cell_type": "markdown",
   "id": "078a5d96",
   "metadata": {},
   "source": [
    "Créons une fonction qui supprime les variables qui ont un seuil de catégorie important et qui sont très dispersées."
   ]
  },
  {
   "cell_type": "code",
   "execution_count": null,
   "id": "44fce861",
   "metadata": {},
   "outputs": [],
   "source": [
    "def del_quali_norelevant(data,identifiant,  delete_i, del_seuilcat_i, del_seuilfreq_i, all_i):\n",
    "    info=\"\"\n",
    "    for col in data.select_dtypes(include=['object']).columns:\n",
    "        if type(data[col].loc[pd.isna(data[col])==False].iloc[0])== str and col not in identifiant:\n",
    "                data_autres=data.loc[data[col]!=\"AUTRES\"]\n",
    "                if delete_i==1 and max(data_autres[col].value_counts(normalize=True).head(10))<del_seuilfreq_i and (data[col].nunique()>del_seuilcat_i):\n",
    "                    print(\"deleted \"+col)\n",
    "                    del data[col]\n",
    "                print(\"Variable :\"+ col + \"----Max freq :\"+str(max(data_autres[col].value_counts(normalize=True))))      \n",
    "\n",
    "    "
   ]
  },
  {
   "cell_type": "markdown",
   "id": "a6576ee6",
   "metadata": {},
   "source": [
    "On supprime les colonnes avec plus de 500 catégorie et dont le maximum de la fréquence d'une modalité est inférieur à 0.05"
   ]
  },
  {
   "cell_type": "code",
   "execution_count": null,
   "id": "0236184d",
   "metadata": {},
   "outputs": [],
   "source": [
    "del_quali_norelevant(data,[\"code\", \"created_datetime\", \"product_name\", \"countries\", \"countries_tags\",\n",
    "                          \"ingredients_text\"], 1, 500, 0.05, 0)"
   ]
  },
  {
   "cell_type": "code",
   "execution_count": null,
   "id": "f41b4b8d",
   "metadata": {},
   "outputs": [],
   "source": [
    "data.columns"
   ]
  },
  {
   "cell_type": "code",
   "execution_count": null,
   "id": "1c0ec4da",
   "metadata": {},
   "outputs": [],
   "source": [
    "data[data.select_dtypes(include=['object', 'string']).columns].describe(include='all').round(2)"
   ]
  },
  {
   "cell_type": "markdown",
   "id": "39f5de39",
   "metadata": {},
   "source": [
    "#### Etudions la variable main_category"
   ]
  },
  {
   "cell_type": "code",
   "execution_count": null,
   "id": "fc55c812",
   "metadata": {},
   "outputs": [],
   "source": [
    "data_autres=data.loc[data['main_category']!=\"AUTRES\"]"
   ]
  },
  {
   "cell_type": "code",
   "execution_count": null,
   "id": "e9f22213",
   "metadata": {},
   "outputs": [],
   "source": [
    "data_autres[\"main_category\"].value_counts(normalize=True).head(10)"
   ]
  },
  {
   "cell_type": "code",
   "execution_count": null,
   "id": "7af46f06",
   "metadata": {},
   "outputs": [],
   "source": [
    "cat_top= data[\"main_category\"].value_counts(normalize=True).head(10).reset_index(name=\"values\")"
   ]
  },
  {
   "cell_type": "code",
   "execution_count": null,
   "id": "507ab881",
   "metadata": {},
   "outputs": [],
   "source": [
    "cat_top[\"index\"]"
   ]
  },
  {
   "cell_type": "code",
   "execution_count": null,
   "id": "1d3ad227",
   "metadata": {},
   "outputs": [],
   "source": [
    "data_cat = data_autres.loc[ data['main_category'].isin(cat_top[\"index\"])==True]"
   ]
  },
  {
   "cell_type": "code",
   "execution_count": null,
   "id": "38d24c1e",
   "metadata": {},
   "outputs": [],
   "source": [
    "data[data.select_dtypes(include=['object', 'string']).columns].describe(include='all').round(2)"
   ]
  },
  {
   "cell_type": "code",
   "execution_count": null,
   "id": "a41e0c80",
   "metadata": {},
   "outputs": [],
   "source": [
    "pk.graph_bubbleplot(data_cat['main_category'], 'g',\"main_category\", \"Fréquence en %\", \n",
    "                 \"Répartition des aliments par catégorie (top 10)\", 0, 23,\n",
    "                    \"black\", \"center\", \"bold\", (14,8),90)"
   ]
  },
  {
   "cell_type": "markdown",
   "id": "2d17c10a",
   "metadata": {},
   "source": [
    "La partie Autres est surreprésentée (77%).\n",
    "\n",
    "Si on exclut la modalité Autres, les données sont très dispersées au sein de cette variable.\n",
    "Nous avons 8% des aliments qui appartiennent à la catégorie canned-foods  (aliment en conserve) et 2% des aliments sont des boissons et 1.5% des aliments surgelés."
   ]
  },
  {
   "cell_type": "markdown",
   "id": "03ab30ed",
   "metadata": {},
   "source": [
    "#### Regardons la variable ingredients_text"
   ]
  },
  {
   "cell_type": "code",
   "execution_count": null,
   "id": "d799eb42",
   "metadata": {},
   "outputs": [],
   "source": [
    "data[\"ingredients_text\"].head(5)"
   ]
  },
  {
   "cell_type": "markdown",
   "id": "0fb83351",
   "metadata": {},
   "source": [
    "Cette variable contient la liste des ingredients contenus dans les aliments.\n",
    "Il n'est donc pas pertinent de l'étudier"
   ]
  },
  {
   "cell_type": "markdown",
   "id": "dbfff6fd",
   "metadata": {},
   "source": [
    "#### Etudions les variables states, states_tags et state_fr"
   ]
  },
  {
   "cell_type": "code",
   "execution_count": null,
   "id": "64b1a1ae",
   "metadata": {},
   "outputs": [],
   "source": [
    "data[\"states\"].unique()"
   ]
  },
  {
   "cell_type": "markdown",
   "id": "2c0ee61d",
   "metadata": {},
   "source": [
    "Ce sont des informations sur l'état de la fiche aliment. Nous pouvons supprimer ces variables."
   ]
  },
  {
   "cell_type": "code",
   "execution_count": null,
   "id": "9edca342",
   "metadata": {},
   "outputs": [],
   "source": [
    "data.drop([\"states\", \"states_tags\", \"states_fr\"], axis=1, inplace=True)"
   ]
  },
  {
   "cell_type": "markdown",
   "id": "080c0f90",
   "metadata": {},
   "source": [
    "#### Observons les variables additives_tags et\tadditives_fr"
   ]
  },
  {
   "cell_type": "markdown",
   "id": "a01e193e",
   "metadata": {},
   "source": [
    "Cette variable comporte 11 748 catégories"
   ]
  },
  {
   "cell_type": "markdown",
   "id": "e719d143",
   "metadata": {},
   "source": [
    "Regardons le top 10."
   ]
  },
  {
   "cell_type": "code",
   "execution_count": null,
   "id": "83f843f4",
   "metadata": {},
   "outputs": [],
   "source": [
    "data_autres[\"additives_tags\"].value_counts(normalize=True).head(10)"
   ]
  },
  {
   "cell_type": "code",
   "execution_count": null,
   "id": "8a8f9cdb",
   "metadata": {},
   "outputs": [],
   "source": [
    "data_autres[\"additives_fr\"].value_counts(normalize=True).head(10)"
   ]
  },
  {
   "cell_type": "markdown",
   "id": "abecc9e9",
   "metadata": {},
   "source": [
    "La variable \"additives_fr\" est la \"traduction\" du code des additifs. Elles ont donc une répartition identiques."
   ]
  },
  {
   "cell_type": "markdown",
   "id": "7885a6f9",
   "metadata": {},
   "source": [
    "Les données sont très dispersées au sein de ces variables. La catégorie Autres représentent 50% des aliments.\n",
    "\n",
    "De plus, nous avons une colonne qui contient le nombre d'additifs, et ces colonnes ne sont pas très parlantes.\n",
    "Nous décidons de les supprimer."
   ]
  },
  {
   "cell_type": "code",
   "execution_count": null,
   "id": "077234df",
   "metadata": {},
   "outputs": [],
   "source": [
    "data.drop([\"additives_fr\", \"additives_tags\"], axis=1, inplace=True)"
   ]
  },
  {
   "cell_type": "markdown",
   "id": "982eee35",
   "metadata": {},
   "source": [
    "#### Analysons à présent la variable nutrition_grade_fr"
   ]
  },
  {
   "cell_type": "code",
   "execution_count": null,
   "id": "28aa2953",
   "metadata": {},
   "outputs": [],
   "source": [
    "pk.graph_barplot(data['nutrition_grade_fr'], \"Répartition des produits selon le nutrition grade\", \n",
    "              (0.82, 0.28, 0.09),\n",
    "              0, 40, \"nutrition_grade_fr\", \"Fréquence en %\",0,1, (11,7))"
   ]
  },
  {
   "cell_type": "markdown",
   "id": "8a693741",
   "metadata": {},
   "source": [
    "Nous observons que nous avons très peu d'aliments de catégorie E (moins de 5%) et de catégorie D (environs 10%)"
   ]
  },
  {
   "cell_type": "markdown",
   "id": "8241fa75",
   "metadata": {},
   "source": [
    "#### Etudions la variable ingredients_from_palm_oil"
   ]
  },
  {
   "cell_type": "markdown",
   "id": "23ac5afd",
   "metadata": {},
   "source": [
    "Traçons un graphique pour observer la répartition des aliments au sein de cette variable"
   ]
  },
  {
   "cell_type": "code",
   "execution_count": null,
   "id": "e5e7e14d",
   "metadata": {},
   "outputs": [],
   "source": [
    "t = pd.crosstab(data.ingredients_from_palm_oil, \"freq\", normalize=True)\n",
    "t = t.assign(column = t.index, freq = 100 * t.freq)"
   ]
  },
  {
   "cell_type": "code",
   "execution_count": null,
   "id": "f6ce49d5",
   "metadata": {},
   "outputs": [],
   "source": [
    "fig = px.pie(t, t.column, t.freq , color_discrete_sequence=px.colors.sequential.RdBu)\n",
    "fig.show()"
   ]
  },
  {
   "cell_type": "markdown",
   "id": "82ee2b4b",
   "metadata": {},
   "source": [
    "Nous remarquons que seulement 0.7% des aliments contiennent potentiellement de l'huile de palme."
   ]
  },
  {
   "cell_type": "markdown",
   "id": "2c6f319e",
   "metadata": {},
   "source": [
    "#### Passons aux variables pnns_groups_1 et pnns_groups_2"
   ]
  },
  {
   "cell_type": "markdown",
   "id": "e6e2f141",
   "metadata": {},
   "source": [
    "Traçons un graphique circulaire pour étudier la répartition des aliments au sein de ces variables."
   ]
  },
  {
   "cell_type": "code",
   "execution_count": null,
   "id": "34180e79",
   "metadata": {},
   "outputs": [],
   "source": [
    "import plotly.express as px\n",
    "import numpy as np\n",
    "fig = px.sunburst(data, path=['pnns_groups_1', 'pnns_groups_2'])\n",
    "fig.show()"
   ]
  },
  {
   "cell_type": "markdown",
   "id": "36b36cfc",
   "metadata": {},
   "source": [
    "Excluons la catégorie \"Autres\" qui représente 57% des aliments et renommons la catégorie \"Unknown\" en \"AUTRES\"."
   ]
  },
  {
   "cell_type": "code",
   "execution_count": null,
   "id": "9611edc4",
   "metadata": {},
   "outputs": [],
   "source": [
    "data['pnns_groups_1'].unique()"
   ]
  },
  {
   "cell_type": "code",
   "execution_count": null,
   "id": "d2007faa",
   "metadata": {},
   "outputs": [],
   "source": [
    "data.head(20)"
   ]
  },
  {
   "cell_type": "code",
   "execution_count": null,
   "id": "5a489656",
   "metadata": {},
   "outputs": [],
   "source": [
    "data['pnns_groups_1'] = data['pnns_groups_1'].str.replace(\"UNKNOWN\",'AUTRES')\n",
    "data['pnns_groups_2'] = data['pnns_groups_2'].str.replace(\"UNKNOWN\",'AUTRES')\n",
    "data_autres=data.loc[(data.pnns_groups_1!=\"AUTRES\") & (data.pnns_groups_2!=\"AUTRES\") ] "
   ]
  },
  {
   "cell_type": "code",
   "execution_count": null,
   "id": "d296fb77",
   "metadata": {},
   "outputs": [],
   "source": [
    "import plotly.express as px\n",
    "import numpy as np\n",
    "fig = px.sunburst(data_autres, path=['pnns_groups_1', 'pnns_groups_2'])\n",
    "fig.show()"
   ]
  },
  {
   "cell_type": "markdown",
   "id": "e831fe2b",
   "metadata": {},
   "source": [
    "Nous remarquons que la plupart des aliments sont des boissons et des ingredients."
   ]
  },
  {
   "cell_type": "markdown",
   "id": "ea50d488",
   "metadata": {},
   "source": [
    "#### Décrivons nos données en regardons le nombre d'aliments par date de création des fiches."
   ]
  },
  {
   "cell_type": "code",
   "execution_count": null,
   "id": "1726c88d",
   "metadata": {},
   "outputs": [],
   "source": [
    "data['year'] = pd.DatetimeIndex(data['created_datetime']).year\n",
    "data['month'] =pd.DatetimeIndex(data['created_datetime']).month\n",
    "data[\"year_month\"]=pd.DatetimeIndex(data['created_datetime']).strftime(\"%Y/%m\")"
   ]
  },
  {
   "cell_type": "code",
   "execution_count": null,
   "id": "7f8faa97",
   "metadata": {},
   "outputs": [],
   "source": [
    "data"
   ]
  },
  {
   "cell_type": "code",
   "execution_count": null,
   "id": "c9a7e738",
   "metadata": {},
   "outputs": [],
   "source": [
    "data.columns"
   ]
  },
  {
   "cell_type": "code",
   "execution_count": null,
   "id": "2b454369",
   "metadata": {},
   "outputs": [],
   "source": [
    "data_month=data[[\"year\", \"month\", \"nutrition_grade_fr\"]].value_counts().reset_index(name=\"value\")"
   ]
  },
  {
   "cell_type": "code",
   "execution_count": null,
   "id": "2f07e2fe",
   "metadata": {},
   "outputs": [],
   "source": [
    "data_month"
   ]
  },
  {
   "cell_type": "code",
   "execution_count": null,
   "id": "b4346522",
   "metadata": {},
   "outputs": [],
   "source": [
    "\n",
    "fig = px.scatter(data_month, x=\"month\", y=\"value\", animation_frame=\"year\", animation_group=\"nutrition_grade_fr\",\n",
    "           color=\"nutrition_grade_fr\", \n",
    "           log_x=True, size_max=55)\n",
    "\n",
    "fig[\"layout\"].pop(\"updatemenus\") # optional, drop animation buttons\n",
    "fig.show()"
   ]
  },
  {
   "cell_type": "markdown",
   "id": "e0331ab6",
   "metadata": {},
   "source": [
    "Nous remarquons que la plupart de nos données ont été créées en mars 2017."
   ]
  },
  {
   "cell_type": "markdown",
   "id": "b5864757",
   "metadata": {},
   "source": [
    "#### Regardons d'où provient la majorité des aliments grâce à la variable countries."
   ]
  },
  {
   "cell_type": "markdown",
   "id": "ab13c01b",
   "metadata": {},
   "source": [
    "Nous avons besoin d'importer les pays et leur code iso."
   ]
  },
  {
   "cell_type": "code",
   "execution_count": null,
   "id": "a007683a",
   "metadata": {},
   "outputs": [],
   "source": [
    "info_countries=pd.read_json(\".\\data\\countries.json\")"
   ]
  },
  {
   "cell_type": "code",
   "execution_count": null,
   "id": "b0e272e0",
   "metadata": {},
   "outputs": [],
   "source": [
    "info_countries"
   ]
  },
  {
   "cell_type": "code",
   "execution_count": null,
   "id": "c87f88a7",
   "metadata": {},
   "outputs": [],
   "source": [
    "info_countries=pk.data_majuscule(info_countries)"
   ]
  },
  {
   "cell_type": "code",
   "execution_count": null,
   "id": "6173c845",
   "metadata": {},
   "outputs": [],
   "source": [
    "info_countries = info_countries.rename(columns={'name': 'countries_tags'})"
   ]
  },
  {
   "cell_type": "code",
   "execution_count": null,
   "id": "37948e5f",
   "metadata": {},
   "outputs": [],
   "source": [
    "data.countries_tags.unique()"
   ]
  },
  {
   "cell_type": "code",
   "execution_count": null,
   "id": "f92a916e",
   "metadata": {},
   "outputs": [],
   "source": [
    "data.countries_tags=data.countries_tags.str.replace(\"EN:\",\"\")"
   ]
  },
  {
   "cell_type": "code",
   "execution_count": null,
   "id": "063a4566",
   "metadata": {},
   "outputs": [],
   "source": [
    "data.countries_tags=data.countries_tags.str.replace(\"UNITED-STATES\",\"UNITED STATES OF AMERICA\")"
   ]
  },
  {
   "cell_type": "code",
   "execution_count": null,
   "id": "993a7c67",
   "metadata": {},
   "outputs": [],
   "source": [
    "data.countries_tags"
   ]
  },
  {
   "cell_type": "markdown",
   "id": "499670b3",
   "metadata": {},
   "source": [
    "!nous pouvons à présent ajouter lke code iso dans notre base de données."
   ]
  },
  {
   "cell_type": "code",
   "execution_count": null,
   "id": "79ee03be",
   "metadata": {},
   "outputs": [],
   "source": [
    "data_merge = pd.merge(data, info_countries, how=\"left\", on=[\"countries_tags\"], indicator=True,  suffixes=('', '_del'))"
   ]
  },
  {
   "cell_type": "code",
   "execution_count": null,
   "id": "4efd3854",
   "metadata": {},
   "outputs": [],
   "source": [
    "data_merge"
   ]
  },
  {
   "cell_type": "code",
   "execution_count": null,
   "id": "d4b9fa6c",
   "metadata": {},
   "outputs": [],
   "source": [
    "data_merge.alpha3"
   ]
  },
  {
   "cell_type": "code",
   "execution_count": null,
   "id": "8efb3fab",
   "metadata": {},
   "outputs": [],
   "source": [
    "data_result = data_merge.loc[data_merge[\"_merge\"] == \"both\"].drop(\"_merge\", axis=1)\n",
    "data_result = data_result[[c for c in data_result.columns if not c.startswith('id') |c.startswith('alpha2') | c.endswith('_del') ]]"
   ]
  },
  {
   "cell_type": "code",
   "execution_count": null,
   "id": "cf8f6945",
   "metadata": {},
   "outputs": [],
   "source": [
    "data_result.alpha3.unique()"
   ]
  },
  {
   "cell_type": "code",
   "execution_count": null,
   "id": "c1e83356",
   "metadata": {},
   "outputs": [],
   "source": [
    "data= data_result"
   ]
  },
  {
   "cell_type": "code",
   "execution_count": null,
   "id": "5a251e42",
   "metadata": {},
   "outputs": [],
   "source": [
    "data.alpha3.unique()"
   ]
  },
  {
   "cell_type": "code",
   "execution_count": null,
   "id": "40e7cd0c",
   "metadata": {},
   "outputs": [],
   "source": [
    "maptest=data[[\"alpha3\", \"nutrition_grade_fr\", \"countries_tags\"]].value_counts().reset_index(name=\"value\")"
   ]
  },
  {
   "cell_type": "code",
   "execution_count": null,
   "id": "c2cc0cf7",
   "metadata": {},
   "outputs": [],
   "source": [
    "maptest"
   ]
  },
  {
   "cell_type": "code",
   "execution_count": null,
   "id": "288f532d",
   "metadata": {},
   "outputs": [],
   "source": [
    "import plotly.express as px\n",
    "\n",
    "fig = px.scatter_geo(maptest, locations=\"alpha3\", color=\"nutrition_grade_fr\",\n",
    "                     hover_name=\"countries_tags\", size=\"value\",\n",
    "                     projection=\"natural earth\")\n",
    "fig.show()"
   ]
  },
  {
   "cell_type": "markdown",
   "id": "26cb106e",
   "metadata": {},
   "source": [
    "La majorité de nos aliments proviennent des USA."
   ]
  },
  {
   "cell_type": "markdown",
   "id": "daea89e1",
   "metadata": {},
   "source": [
    "#### Analysons à présent la variable nutrition_grade_fr"
   ]
  },
  {
   "cell_type": "code",
   "execution_count": null,
   "id": "c5477794",
   "metadata": {},
   "outputs": [],
   "source": [
    "pk.graph_barplot(data['nutrition_grade_fr'], \"Répartition des produits selon le nutrition grade\", \n",
    "              (0.82, 0.28, 0.09),\n",
    "              0, 40, \"nutrition_grade_fr\", \"Fréquence en %\",0,1, (11,7))"
   ]
  },
  {
   "cell_type": "markdown",
   "id": "50327eea",
   "metadata": {},
   "source": [
    "Nous observons que nous avons très peu d'aliments de catégorie E (moins de 5%) et de catégorie D (environs 10%)"
   ]
  },
  {
   "cell_type": "code",
   "execution_count": null,
   "id": "52fc935d",
   "metadata": {},
   "outputs": [],
   "source": []
  },
  {
   "cell_type": "markdown",
   "id": "cbb98931",
   "metadata": {},
   "source": [
    "## Conclusion qualitatives"
   ]
  },
  {
   "cell_type": "markdown",
   "id": "0570a6b3",
   "metadata": {},
   "source": [
    "Nous avons appris que les variables qualitatives étaient très disperséesau sein des catégories et que la majorité des aliments étaient dans la catégorie \"AUTRES\".\n",
    "\n",
    "Nous avons aussi remarqué que nos données ont été créées en mars 2017 et que les aliments proviennent des USA.\n",
    "Nous savons aussi que nos aliments sont bien notés, 32% des aliments ont un B et 28% des aliments ont un A contre moins de 5% des aliments ont un E."
   ]
  },
  {
   "cell_type": "markdown",
   "id": "e9b5e5a6",
   "metadata": {},
   "source": [
    "Maintenant que nous connaissons nos données. Il est important de pouvoir faire un zoom sur le nutriscore afin d'améliorer la santé des français."
   ]
  },
  {
   "cell_type": "markdown",
   "id": "cd93afbb",
   "metadata": {},
   "source": [
    "# Est-ce que le nutriscore contribue à améliorer la santé des français ? Dans ce but, est ce que le nutriscore permet de manger équilibrer ?"
   ]
  },
  {
   "cell_type": "markdown",
   "id": "80179690",
   "metadata": {},
   "source": [
    "## Nos variables"
   ]
  },
  {
   "cell_type": "markdown",
   "id": "1ae81db0",
   "metadata": {},
   "source": [
    "Nous allons commencer par sélectionner les colonnes qu'il nous faut pour améliorer la santé des français.\n",
    "\n",
    "Certains organismes officiels, comme l’AFSSA (Agence française de sécurité sanitaire des aliments), ont crée des recommandations sous forme d’apports nutritionnels conseillés (ANC) pour chaque type de nutriment.\n",
    "\n",
    "source : https://www.vidal.fr/sante/nutrition/equilibre-alimentaire-adulte/recommandations-nutritionnelles-adulte/en-pratique.html\n",
    "\n",
    "Selon le tableau nutritionnel, voici les informations dont nous avons besoin : Glucides, Lipides, Protéines, Fibres. Et les aliments qui contiennent de l'huile de palme sont à notifier.\n",
    "\n",
    "Comment le Nutri-Score Fr est-il calculé?\n",
    "\n",
    "Points négatifs : l'énergie, les graisses saturées, les sucres, et le sel (des niveaux élevés sont considérés comme mauvais pour la santé)\n",
    "\n",
    "Points positifs : la proportion de fruits, de légumes, de noix, d'huiles d'olive, de colza et de noix, de fibres et de protéines (les niveaux élevés sont considérés comme bons pour la santé).\n",
    "\n",
    "Sélectionnons donc seulement les colonnes nécessaires à notre étude. Nous sélectionnons tous les aliments même ceux qui ne sont pas vendu en France. En effet, ils peuvent être vendus prochainement et être interessant pour notre étude."
   ]
  },
  {
   "cell_type": "code",
   "execution_count": null,
   "id": "0549aeae",
   "metadata": {},
   "outputs": [],
   "source": [
    "data.columns"
   ]
  },
  {
   "cell_type": "code",
   "execution_count": null,
   "id": "c9669cf9",
   "metadata": {},
   "outputs": [],
   "source": [
    "data_study = data[[\"code\", \"product_name\",  \n",
    "            \"ingredients_text\",\"energy_100g\", \"carbohydrates_100g\", \"proteins_100g\", \"fat_100g\",\n",
    "            \"saturated_fat_100g\", \"fiber_100g\", \"sugars_100g\", \"salt_100g\",\n",
    "             \"additives_n\", \"ingredients_from_palm_oil\",\n",
    "            \"ingredients_from_palm_oil_n\", \"ingredients_that_may_be_from_palm_oil_n\", \n",
    "            \"nutrition_grade_fr\", \"main_category\", \"nutrition_score_fr_100g\", 'reg_additives',\n",
    "       'reg_energy', 'reg_fat', 'reg_carbohydrates', 'reg_fiber', \n",
    "       'reg_protein']]"
   ]
  },
  {
   "cell_type": "markdown",
   "id": "2e14d2d4",
   "metadata": {},
   "source": [
    "## Quels sont ses caractéristiques ?\n",
    "\n",
    "#### Techniquement, voici les éléments qui agit sur le nutriscore :\n",
    "\n",
    "Points négatifs : l'énergie, les graisses saturées, les sucres, et le sel (des niveaux élevés sont considérés comme mauvais pour la santé)\n",
    "\n",
    "Points positifs : la proportion de fruits, de légumes, de noix, d'huiles d'olive, de colza et de noix, de fibres et de protéines (les niveaux élevés sont considérés comme bons pour la santé)."
   ]
  },
  {
   "cell_type": "markdown",
   "id": "dd496f2b",
   "metadata": {},
   "source": [
    "## Est - ce que si nous mangeons que des aliments avec un nutriscore A, serons - nous en bonne santé ?"
   ]
  },
  {
   "cell_type": "markdown",
   "id": "aa982331",
   "metadata": {},
   "source": [
    "### Comparons les informations  des différentes notes."
   ]
  },
  {
   "cell_type": "markdown",
   "id": "2134221a",
   "metadata": {},
   "source": [
    "Excluons les données non renseignées du Nutriscore."
   ]
  },
  {
   "cell_type": "code",
   "execution_count": null,
   "id": "b5722630",
   "metadata": {},
   "outputs": [],
   "source": [
    "dataN = data_study.loc[data[\"nutrition_grade_fr\"]!=\"AUTRES\"].sort_values(by=[\"nutrition_grade_fr\"])"
   ]
  },
  {
   "cell_type": "markdown",
   "id": "7be5c03c",
   "metadata": {},
   "source": [
    "### Analyse bivariée : Etudions le lien entre la variable nutrition_grade_fr et les autres variables."
   ]
  },
  {
   "cell_type": "code",
   "execution_count": null,
   "id": "431eb4e1",
   "metadata": {},
   "outputs": [],
   "source": [
    "dataN.describe()"
   ]
  },
  {
   "cell_type": "code",
   "execution_count": null,
   "id": "6df230e7",
   "metadata": {},
   "outputs": [],
   "source": [
    "def percentile(n):\n",
    "    def percentile_(x):\n",
    "        y=x.loc[pd.isna(x)==False]\n",
    "        return np.percentile(y, n)\n",
    "    percentile_.__name__ = 'percentile_%s' % n\n",
    "    return percentile_"
   ]
  },
  {
   "cell_type": "code",
   "execution_count": null,
   "id": "c09e6eb9",
   "metadata": {},
   "outputs": [],
   "source": [
    "for col in data_study.select_dtypes(include=['float64']).columns:\n",
    "    print(col)\n",
    "    print(dataN.groupby(\"nutrition_grade_fr\")[col].agg([np.median,np.min, np.max, percentile(25), percentile(75)]))"
   ]
  },
  {
   "cell_type": "code",
   "execution_count": null,
   "id": "ed4dc07f",
   "metadata": {},
   "outputs": [],
   "source": [
    "for col in data_study.select_dtypes(include=['float64']).columns:\n",
    "    print(\"moyenne \"+col +\" = \"+str(dataN[col].mean()))\n",
    "    pk.graph_boxplot_by_group(dataN, col,\"nutrition_grade_fr\", \"Boite à moustache de la variable \"+col+\" en fonction du nutriscore\", \"rocket_r\", (14,8))"
   ]
  },
  {
   "cell_type": "markdown",
   "id": "ad420c7b",
   "metadata": {},
   "source": [
    "Grâce à ces boites à moustache, nous remarquons qu'ils restent des données extrêmes. Mais dans ce contexte, nous devons les conserver pour ne pas perdre d'information.\n",
    "\n",
    "Les boites à moustache sont peu dispersées même si en fonction des notes, leur dispersion peuvent plus ou moins varié."
   ]
  },
  {
   "cell_type": "markdown",
   "id": "ce48687f",
   "metadata": {},
   "source": [
    "Comment pouvons - nous décrire les aliments avec une note A ?\n",
    "- riches en fibres et en proteines\n",
    "- peu de sel, de sucre et de matières grasses (y compris en graisses saturés)\n",
    "- contiennent des fruits, végétaux ou des arachides\n",
    "- faible en additifs\n",
    "- apport en energie proche de la moyenne\n",
    "\n",
    "Comment pouvons - nous décrire les aliments avec une note E ?\n",
    "- riches en sucre, en additif et en glucides\n",
    "- pauvres en fibres, proteines, sel\n",
    "- une energie qui varie beaucoup dans les extrêmes."
   ]
  },
  {
   "cell_type": "code",
   "execution_count": null,
   "id": "6551ff11",
   "metadata": {},
   "outputs": [],
   "source": [
    "dataN.columns"
   ]
  },
  {
   "cell_type": "code",
   "execution_count": null,
   "id": "b0d46cf7",
   "metadata": {},
   "outputs": [],
   "source": [
    "sns.catplot(x = \"nutrition_grade_fr\", hue = \"ingredients_from_palm_oil\", data = dataN, kind = \"count\", color=(0.82, 0.28, 0.09))"
   ]
  },
  {
   "cell_type": "markdown",
   "id": "b80f22b8",
   "metadata": {},
   "source": [
    "Les produits qui contiennent potentiellement de l'huile de palme ont les meilleurs notes."
   ]
  },
  {
   "cell_type": "markdown",
   "id": "41975e37",
   "metadata": {},
   "source": [
    "### Confirmons nos résultats précédents en vérifiant le lien entre nos variables quantitatives et le grade du nutriscore"
   ]
  },
  {
   "cell_type": "markdown",
   "id": "a649d424",
   "metadata": {},
   "source": [
    "Pour cela, nous pourrions modéliser nos données en réalisant une ANOVA.\n",
    "Mais cela suppose 3 choses : \n",
    "- l'indépendance entre chaque groupe\n",
    "- l'égalité des variances\n",
    "- la normalité des résidus (cela permet de ne pas affirmer qu'il existe une différence de moyenne entre les groupes qui serait causée par le hasard)."
   ]
  },
  {
   "cell_type": "markdown",
   "id": "8b14ea02",
   "metadata": {},
   "source": [
    "### L'indépendance entre nos groupes"
   ]
  },
  {
   "cell_type": "markdown",
   "id": "424c44c6",
   "metadata": {},
   "source": [
    "Selon le contexte, nous savons que chaque lettre du nutriscore est indépendante car elle représente un classement des aliments."
   ]
  },
  {
   "cell_type": "markdown",
   "id": "06ab81fa",
   "metadata": {},
   "source": [
    "### L'égalité des variances"
   ]
  },
  {
   "cell_type": "markdown",
   "id": "8405d30e",
   "metadata": {},
   "source": [
    "Réalisons un test de bartlette afin de confirmer ce que nous avons vu lors de l'analyse bivariée.\n",
    "\n",
    "H0 : Les variances de chaque groupe sont égales si p-value > 5%\n",
    "\n",
    "H1 : Les variances de chaque groupe ne sont pas toutes égales < 5%"
   ]
  },
  {
   "cell_type": "markdown",
   "id": "4611ab19",
   "metadata": {},
   "source": [
    "Définissons nos groupes"
   ]
  },
  {
   "cell_type": "code",
   "execution_count": null,
   "id": "cd59a06a",
   "metadata": {},
   "outputs": [],
   "source": [
    "data_a=dataN.loc[data[\"nutrition_grade_fr\"]==\"A\"]\n",
    "data_b=dataN.loc[data[\"nutrition_grade_fr\"]==\"B\"]\n",
    "data_c=dataN.loc[data[\"nutrition_grade_fr\"]==\"C\"]\n",
    "data_d=dataN.loc[data[\"nutrition_grade_fr\"]==\"D\"]\n",
    "data_e=dataN.loc[data[\"nutrition_grade_fr\"]==\"E\"]"
   ]
  },
  {
   "cell_type": "markdown",
   "id": "cb15bf04",
   "metadata": {},
   "source": [
    "Effectuons le test pour chaque variable quantitative"
   ]
  },
  {
   "cell_type": "code",
   "execution_count": null,
   "id": "8398fb24",
   "metadata": {},
   "outputs": [],
   "source": [
    "for col in dataN.select_dtypes(include=['float64']).columns:\n",
    "    print(\"colonne \"+col+\" \"+str(scipy.stats.bartlett(data_a[col], data_b[col], data_c[col], data_d[col], data_e[col])))"
   ]
  },
  {
   "cell_type": "markdown",
   "id": "363ab817",
   "metadata": {},
   "source": [
    "Nous rejetons h0 pour toutes nos variables. Les variances ne sont pas égales."
   ]
  },
  {
   "cell_type": "markdown",
   "id": "805e52cd",
   "metadata": {},
   "source": [
    "La deuxième condition pour effectuer une ANOVA n'est pas validée."
   ]
  },
  {
   "cell_type": "code",
   "execution_count": null,
   "id": "05c8ce47",
   "metadata": {},
   "outputs": [],
   "source": [
    "import statsmodels.api as sm\n",
    "from statsmodels.formula.api import ols\n",
    "model = ols('energy_100g ~ nutrition_grade_fr ', data=dataN).fit()\n",
    "anova = sm.stats.anova_lm(model, typ=2)\n",
    "\n",
    "anova"
   ]
  },
  {
   "cell_type": "markdown",
   "id": "c31fcc1f",
   "metadata": {},
   "source": [
    "H0 : les moyennes sont équivalent dans les groupes\n",
    "H1 : les moyennes sont différentes\n",
    "    \n",
    "P<0.05 on rejette H0. et on admet H1.\n",
    "\n",
    "#### Les résidus doivent suivre une loi normale"
   ]
  },
  {
   "cell_type": "code",
   "execution_count": null,
   "id": "55b1eddf",
   "metadata": {},
   "outputs": [],
   "source": [
    "import numpy as np\n",
    "import statsmodels.api as sm\n",
    "import pylab\n",
    "from scipy.stats import shapiro\n",
    "model = ols('energy_100g ~ nutrition_grade_fr', data=dataN).fit()\n",
    "scipy.stats.normaltest(model.resid)"
   ]
  },
  {
   "cell_type": "markdown",
   "id": "83ddd016",
   "metadata": {},
   "source": [
    "~H0 : Les résidus suivent une loi normale si p-value > 5%~\n",
    "H1 : Les résidus ne suivent pas une loi normale si p-value < 5%"
   ]
  },
  {
   "cell_type": "code",
   "execution_count": null,
   "id": "7be0d7f3",
   "metadata": {},
   "outputs": [],
   "source": [
    "import numpy as np\n",
    "import statsmodels.api as sm\n",
    "from statsmodels.formula.api import ols\n",
    "import pylab\n",
    "from scipy.stats import shapiro\n",
    "model = ols('energy_100g ~ nutrition_grade_fr', data=dataN).fit()\n",
    "\n",
    "\n",
    "sm.qqplot(model.resid, line='45')\n",
    "pylab.show()"
   ]
  },
  {
   "cell_type": "markdown",
   "id": "2cc7de51",
   "metadata": {},
   "source": [
    "### Utilisons le test de Krusdall (utilise les rangs au lieu des moyennes)"
   ]
  },
  {
   "cell_type": "markdown",
   "id": "b9a0e067",
   "metadata": {},
   "source": [
    "H0 :  la médiane de la population de tous les groupes est égale\n",
    "H1 :  la médiane de la population d'au moins un groupe n'est pas égale"
   ]
  },
  {
   "cell_type": "markdown",
   "id": "1832b82b",
   "metadata": {},
   "source": [
    "Test Krusdall(utilise mediane et quantile)"
   ]
  },
  {
   "cell_type": "code",
   "execution_count": null,
   "id": "99796049",
   "metadata": {},
   "outputs": [],
   "source": [
    "for col in data.select_dtypes(include=['float64']).columns:\n",
    "    print(\"colonne \"+col+\": \"+ str(scipy.stats.kruskal(*[group[col] for name, group in dataN.groupby(\"nutrition_grade_fr\")])))"
   ]
  },
  {
   "cell_type": "markdown",
   "id": "687ccb5d",
   "metadata": {},
   "source": [
    "Signatifivement différent on rejette H0 car pvalue<5%"
   ]
  },
  {
   "cell_type": "markdown",
   "id": "3ee78e49",
   "metadata": {},
   "source": [
    "Selon le test, la mediane d'un groupe sont significativement différents pour chacunes des variables."
   ]
  },
  {
   "cell_type": "markdown",
   "id": "1cb40ad3",
   "metadata": {},
   "source": [
    "## Conclusion Nutriscore"
   ]
  },
  {
   "cell_type": "markdown",
   "id": "4f0793b7",
   "metadata": {},
   "source": [
    " les aliments avec une note A ?\n",
    "- riches en fibres et en proteines \n",
    "- peu de sel, de sucre et de matières grasses (y compris en graisses saturés)\n",
    "- contiennent des fruits, végétaux ou des arachides\n",
    "- faible en additifs\n",
    "- apport en energie proche de la moyenne\n",
    "\n",
    " les aliments avec une note E ?\n",
    "- riches en sucre, en additif et en glucides\n",
    "- pauvres en fibres, proteines, sel\n",
    "- une energie qui varie beaucoup dans les extrêmes.\n",
    "\n",
    "\n",
    "Cependant, nous avons besoin d'une alimentation équilibrée. \n",
    "\n",
    "Voici l'apport quotidien pour un adulte : \n",
    "\n",
    "Glucides = 250g (carbohydrates)\n",
    "\n",
    "lipides = 50 insaturé et 20 sature\n",
    "\n",
    "Protéines =\t45 g pour une personne de 55 kg\n",
    "            60 g pour une personne de 75 kg\n",
    "            \n",
    "Fibres =\t25 à 30 g dont une moitié issue des céréales et l'autre issue des fruits et légumes\n",
    "    \n",
    "Donc si nous mangeons que des produits A, cela ne nous permet pas de manger équilibrer et ne permet pas d'améliorer la santé.\n",
    "Comment pouvons - nous améliorer la santé des français?"
   ]
  },
  {
   "cell_type": "markdown",
   "id": "1abab598",
   "metadata": {},
   "source": [
    "# Objectif une meilleure santé pour tous : Application Smart Food"
   ]
  },
  {
   "cell_type": "markdown",
   "id": "f8344892",
   "metadata": {},
   "source": [
    "Un classement des aliments et le calcul de leur combinaison permettront d'améliorer la santé des français et les guider vers une alimentation équilibrée sans se priver."
   ]
  },
  {
   "cell_type": "markdown",
   "id": "3370c71d",
   "metadata": {},
   "source": [
    "## Classement des aliments"
   ]
  },
  {
   "cell_type": "markdown",
   "id": "471f2db9",
   "metadata": {},
   "source": [
    "Etudions de plus près nos aliments et regardons qu'elles sont les variables qui permettent d'expliquer au mieux cette population.\n",
    "\n",
    "\n",
    "Pour commencer, il nous faut exclure les données manquantes et étudier les variables quantitatives qui sont corrélées."
   ]
  },
  {
   "cell_type": "code",
   "execution_count": null,
   "id": "482a7af5",
   "metadata": {},
   "outputs": [],
   "source": [
    "data.columns"
   ]
  },
  {
   "cell_type": "markdown",
   "id": "d2e5cb54",
   "metadata": {},
   "source": [
    "Regardons les variables corrélées."
   ]
  },
  {
   "cell_type": "code",
   "execution_count": null,
   "id": "b587b963",
   "metadata": {},
   "outputs": [],
   "source": [
    "sns.set(rc={'figure.figsize':(10,4)})\n",
    "\n",
    "data_corr = data.corr()\n",
    "\n",
    "ax = sns.heatmap(data_corr, xticklabels = data_corr.columns , \n",
    "                 yticklabels = data_corr.columns, cmap = 'coolwarm')"
   ]
  },
  {
   "cell_type": "code",
   "execution_count": null,
   "id": "3f6b9d1c",
   "metadata": {},
   "outputs": [],
   "source": [
    "data_acp=data.loc[(pd.isna(data.energy_100g)==False) & (pd.isna(data.carbohydrates_100g)==False) & (pd.isna(data.proteins_100g)==False) & (pd.isna(data.fat_100g)==False)\n",
    "       & (pd.isna(data[\"fiber_100g\"])==False)\n",
    "& (pd.isna(data[\"nutrition_score_fr_100g\"])==False)\n",
    "                 & (pd.isna(data[\"nutrition_grade_fr\"])==False)\n",
    "                 & (pd.isna(data[\"additives_n\"])==False)]"
   ]
  },
  {
   "cell_type": "markdown",
   "id": "29b13a32",
   "metadata": {},
   "source": [
    "Nous excluons la variable sugars_100 car elle est corrélée avec carbohydrates_100g (glucides).\n",
    "Et nous excluons la variable satured_fat qui est corrélée avec fat_100g.\n",
    "Nous excluons aussi la variable energy_100g qui est corrélé avec fat_100g."
   ]
  },
  {
   "cell_type": "code",
   "execution_count": null,
   "id": "123c2374",
   "metadata": {},
   "outputs": [],
   "source": [
    "data.columns"
   ]
  },
  {
   "cell_type": "code",
   "execution_count": null,
   "id": "44b56d4b",
   "metadata": {},
   "outputs": [],
   "source": [
    "from sklearn.decomposition import PCA\n",
    "from sklearn.preprocessing import StandardScaler, MinMaxScaler, scale\n",
    "# suppression des colonnes non numériques\n",
    "WGI_num0 = data_acp.drop(columns =data.select_dtypes(include=['object', 'string']).columns)"
   ]
  },
  {
   "cell_type": "code",
   "execution_count": null,
   "id": "4c854315",
   "metadata": {},
   "outputs": [],
   "source": [
    "WGI_num0.columns"
   ]
  },
  {
   "cell_type": "code",
   "execution_count": null,
   "id": "2f1cbd6a",
   "metadata": {},
   "outputs": [],
   "source": [
    "WGI_num0 = WGI_num0.drop(columns =[\"reg_additives\", \"reg_energy\", \"reg_fat\", \"reg_saturated_fat\", \"reg_carbohydrates\", \"reg_fiber\",\n",
    "                                  \"reg_protein\", \"year\", \"month\", \"nutrition_score_fr_100g\",\"nutrition-score-uk_100g\",\n",
    "                                  \"energy_100g\", \"saturated_fat_100g\", \"sodium_100g\", \"sugars_100g\"])"
   ]
  },
  {
   "cell_type": "code",
   "execution_count": null,
   "id": "df8d46d7",
   "metadata": {},
   "outputs": [],
   "source": [
    "WGI_num0.describe(include=\"all\")"
   ]
  },
  {
   "cell_type": "code",
   "execution_count": null,
   "id": "e92ab96c",
   "metadata": {},
   "outputs": [],
   "source": [
    "pca = PCA()\n",
    "WGI_num = pca.fit_transform(scale(WGI_num0))\n",
    "\n",
    "pca.fit(WGI_num)"
   ]
  },
  {
   "cell_type": "code",
   "execution_count": null,
   "id": "9bf3685d",
   "metadata": {},
   "outputs": [],
   "source": [
    "print(pca.explained_variance_)\n",
    "print(pca.explained_variance_ratio_)"
   ]
  },
  {
   "cell_type": "code",
   "execution_count": null,
   "id": "99bbc931",
   "metadata": {},
   "outputs": [],
   "source": [
    "eig = pd.DataFrame(\n",
    "    {\n",
    "        \"Dimension\" : [\"Dim\" + str(x + 1) for x in range(8)], \n",
    "        \"Variance expliquée\" : pca.explained_variance_,\n",
    "        \"% variance expliquée\" : np.round(pca.explained_variance_ratio_ * 100),\n",
    "        \"% cum. var. expliquée\" : np.round(np.cumsum(pca.explained_variance_ratio_) * 100)\n",
    "    }\n",
    ")\n",
    "eig"
   ]
  },
  {
   "cell_type": "code",
   "execution_count": null,
   "id": "7493b7d0",
   "metadata": {},
   "outputs": [],
   "source": [
    "eig.plot.bar(x = \"Dimension\", y = \"% variance expliquée\") # permet un diagramme en barres\n",
    "plt.text(5, 18, \"14%\") # ajout de texte\n",
    "plt.axhline(y = 14, linewidth = .5, color = \"dimgray\", linestyle = \"--\") # ligne 17 = 100 / 6 (nb dimensions)\n",
    "plt.show()"
   ]
  },
  {
   "cell_type": "code",
   "execution_count": null,
   "id": "4511114e",
   "metadata": {},
   "outputs": [],
   "source": [
    "WGI_pca = pca.transform(WGI_num)"
   ]
  },
  {
   "cell_type": "code",
   "execution_count": null,
   "id": "ecbf77aa",
   "metadata": {},
   "outputs": [],
   "source": [
    "# Transformation en DataFrame pandas\n",
    "WGI_pca_df = pd.DataFrame({\n",
    "    \"Dim1\" : WGI_pca[:,0], \n",
    "    \"Dim2\" : WGI_pca[:,1],\n",
    "    \"Dim3\" : WGI_pca[:,2],\n",
    "    \"Dim4\" : WGI_pca[:,3],\n",
    "    \"Dim5\" : WGI_pca[:,4],\n",
    "    \"Dim6\" : WGI_pca[:,5],\n",
    "    \"product\": data_acp[\"product_name\"],\n",
    "    \"nutrition_grade_fr\" : data_acp[\"nutrition_grade_fr\"]\n",
    "})\n",
    "\n",
    "# Résultat (premières lignes)\n",
    "WGI_pca_df.head()"
   ]
  },
  {
   "cell_type": "code",
   "execution_count": null,
   "id": "c2296555",
   "metadata": {},
   "outputs": [],
   "source": [
    "WGI_pca_df.plot.scatter(\"Dim1\", \"Dim2\") # nuage de points\n",
    "plt.xlabel(\"Dimension 1 (35%)\") # modification du nom de l'axe X\n",
    "plt.ylabel(\"Dimension 2 (30%)\") # idem pour axe Y\n",
    "plt.suptitle(\"Premier plan factoriel (65%)\") # titre général\n",
    "plt.show()"
   ]
  },
  {
   "cell_type": "code",
   "execution_count": null,
   "id": "e7a3d9e7",
   "metadata": {},
   "outputs": [],
   "source": [
    "WGI_num.shape"
   ]
  },
  {
   "cell_type": "code",
   "execution_count": null,
   "id": "6e43e541",
   "metadata": {},
   "outputs": [],
   "source": [
    "WGI_num"
   ]
  },
  {
   "cell_type": "code",
   "execution_count": null,
   "id": "bc1e9dea",
   "metadata": {},
   "outputs": [],
   "source": [
    "n = WGI_num.shape[0] # nb individus\n",
    "p = WGI_num.shape[1] # nb variables\n",
    "eigval = (n-1) / n * pca.explained_variance_ # valeurs propres\n",
    "sqrt_eigval = np.sqrt(eigval) # racine carrée des valeurs propres\n",
    "corvar = np.zeros((p,p)) # matrice vide pour avoir les coordonnées\n",
    "for k in range(p):\n",
    "    corvar[:,k] = pca.components_[k,:] * sqrt_eigval[k]\n",
    "# on modifie pour avoir un dataframe\n",
    "coordvar = pd.DataFrame({'id': WGI_num0.columns, 'COR_1': corvar[:,0], 'COR_2': corvar[:,1], 'COR_3': corvar[:,2]\n",
    "                        , 'COR_4': corvar[:,3], 'COR_5': corvar[:,4], 'COR_6': corvar[:,5]})\n",
    "coordvar"
   ]
  },
  {
   "cell_type": "code",
   "execution_count": null,
   "id": "b9aaea5b",
   "metadata": {},
   "outputs": [],
   "source": [
    "from yellowbrick.datasets import load_concrete\n",
    "from yellowbrick.features import PCA\n",
    "from yellowbrick.style import set_palette\n",
    "\n",
    "# Load the concrete dataset\n",
    "visualizer = PCA(scale=True, proj_features=True)\n",
    "visualizer.fit_transform(WGI_num0)\n",
    "visualizer.show()"
   ]
  },
  {
   "cell_type": "code",
   "execution_count": null,
   "id": "472fbbd1",
   "metadata": {},
   "outputs": [],
   "source": [
    "ax = plt.figure(figsize=(16,10)).gca(projection='3d')\n",
    "ax.scatter(\n",
    "    xs=WGI_pca_df[\"Dim1\"], \n",
    "    ys=WGI_pca_df[\"Dim2\"], \n",
    "    zs=WGI_pca_df[\"Dim3\"],\n",
    "    cmap='tab10'\n",
    ")\n",
    "ax.set_xlabel('Dim 1 (35%)')\n",
    "ax.set_ylabel('Dim 2 (30%)')\n",
    "ax.set_zlabel('Dim 3 (21%)')\n",
    "plt.show()"
   ]
  },
  {
   "cell_type": "code",
   "execution_count": null,
   "id": "59ed16ac",
   "metadata": {},
   "outputs": [],
   "source": [
    "WGI_num0"
   ]
  },
  {
   "cell_type": "code",
   "execution_count": null,
   "id": "cadbd5c9",
   "metadata": {},
   "outputs": [],
   "source": [
    "test_a=data_acp.loc[data_acp[\"nutrition_grade_fr\"]==\"A\"].sample(1000)\n",
    "test_b=data_acp.loc[data_acp[\"nutrition_grade_fr\"]==\"B\"].sample(1000)\n",
    "test_c=data_acp.loc[data_acp[\"nutrition_grade_fr\"]==\"C\"].sample(1000)\n",
    "test_d=data_acp.loc[data_acp[\"nutrition_grade_fr\"]==\"D\"].sample(1000)\n",
    "test_e=data_acp.loc[data_acp[\"nutrition_grade_fr\"]==\"E\"].sample(1000)"
   ]
  },
  {
   "cell_type": "code",
   "execution_count": null,
   "id": "fbaed7e6",
   "metadata": {},
   "outputs": [],
   "source": [
    "frames = [test_a, test_b, test_c, test_d, test_e]"
   ]
  },
  {
   "cell_type": "code",
   "execution_count": null,
   "id": "0bc9746c",
   "metadata": {},
   "outputs": [],
   "source": [
    "test = pd.concat(frames)"
   ]
  },
  {
   "cell_type": "code",
   "execution_count": null,
   "id": "a6f26876",
   "metadata": {},
   "outputs": [],
   "source": [
    "test.shape"
   ]
  },
  {
   "cell_type": "code",
   "execution_count": null,
   "id": "1da1a0a3",
   "metadata": {},
   "outputs": [],
   "source": [
    "test2=test.drop(columns =data_acp.select_dtypes(include=['object', 'string']).columns)"
   ]
  },
  {
   "cell_type": "code",
   "execution_count": null,
   "id": "f2fda22d",
   "metadata": {},
   "outputs": [],
   "source": [
    "test2 = test2.drop(columns =[\"reg_additives\", \"reg_energy\", \"reg_fat\", \"reg_saturated_fat\", \"reg_carbohydrates\", \"reg_fiber\",\n",
    "                                  \"reg_protein\", \"year\", \"month\", \"nutrition_score_fr_100g\",\"nutrition-score-uk_100g\",\n",
    "                                  \"energy_100g\", \"saturated_fat_100g\", \"sodium_100g\", \"sugars_100g\"])"
   ]
  },
  {
   "cell_type": "code",
   "execution_count": null,
   "id": "56344c38",
   "metadata": {},
   "outputs": [],
   "source": [
    "test2.describe(include=\"all\")"
   ]
  },
  {
   "cell_type": "code",
   "execution_count": null,
   "id": "bd246882",
   "metadata": {},
   "outputs": [],
   "source": [
    "#librairies pour la CAH\n",
    "from matplotlib import pyplot as plt\n",
    "from scipy.cluster.hierarchy import dendrogram, linkage\n",
    "#générer la matrice des liens\n",
    "Z = linkage(test2,method='ward',metric='euclidean')\n",
    "#affichage du dendrogramme\n",
    "plt.title(\"CAH\")\n",
    "dendrogram(Z,labels=test2.index,color_threshold=0)\n",
    "plt.show()"
   ]
  },
  {
   "cell_type": "markdown",
   "id": "8e86e36a",
   "metadata": {},
   "source": [
    "Noous décidons de couper  groupes."
   ]
  },
  {
   "cell_type": "code",
   "execution_count": null,
   "id": "b8144126",
   "metadata": {},
   "outputs": [],
   "source": [
    "from sklearn.cluster import KMeans\n",
    "\n",
    "kmeans2 = KMeans(n_clusters = 5)\n",
    "kmeans2.fit(scale(WGI_num0))"
   ]
  },
  {
   "cell_type": "code",
   "execution_count": null,
   "id": "026d62ea",
   "metadata": {},
   "outputs": [],
   "source": [
    "kmeans2.labels_"
   ]
  },
  {
   "cell_type": "code",
   "execution_count": null,
   "id": "17a5107f",
   "metadata": {},
   "outputs": [],
   "source": [
    "pd.Series(kmeans2.labels_).value_counts()"
   ]
  },
  {
   "cell_type": "code",
   "execution_count": null,
   "id": "8b101390",
   "metadata": {},
   "outputs": [],
   "source": [
    "kmeans2.cluster_centers_"
   ]
  },
  {
   "cell_type": "code",
   "execution_count": null,
   "id": "525421fe",
   "metadata": {},
   "outputs": [],
   "source": [
    "WGI_k2 = WGI_num0.assign(classe = kmeans2.labels_)\n",
    "WGI_k2.groupby(\"classe\").mean()"
   ]
  },
  {
   "cell_type": "code",
   "execution_count": null,
   "id": "a53aba04",
   "metadata": {},
   "outputs": [],
   "source": [
    "WGI_k2"
   ]
  },
  {
   "cell_type": "code",
   "execution_count": null,
   "id": "40518faf",
   "metadata": {},
   "outputs": [],
   "source": [
    "WGI_pca_k2 = WGI_pca_df.assign(classe = kmeans2.labels_)\n",
    "WGI_pca_k2.plot.scatter(x = \"Dim1\", y = \"Dim2\", c = \"classe\", cmap = \"Accent\")\n",
    "plt.show()"
   ]
  },
  {
   "cell_type": "code",
   "execution_count": null,
   "id": "bd5d5674",
   "metadata": {},
   "outputs": [],
   "source": [
    "WGI_pca_k2.shape"
   ]
  },
  {
   "cell_type": "code",
   "execution_count": null,
   "id": "ba1c254f",
   "metadata": {},
   "outputs": [],
   "source": [
    "ax = plt.figure(figsize=(16,10)).gca(projection='3d')\n",
    "WGI_pca_k2 = WGI_pca_df.assign(classe = kmeans2.labels_)\n",
    "ax.scatter(\n",
    "    xs=WGI_pca_k2[\"Dim1\"], \n",
    "    ys=WGI_pca_k2[\"Dim2\"], \n",
    "    zs=WGI_pca_k2[\"Dim3\"],\n",
    "    c=WGI_pca_k2[\"classe\"],\n",
    "    cmap='tab10'\n",
    ")\n",
    "ax.set_xlabel('Dim 1 (35%)')\n",
    "ax.set_ylabel('Dim 2(30%)')\n",
    "ax.set_zlabel('Dim 3 (21%)')\n",
    "plt.show()"
   ]
  },
  {
   "cell_type": "code",
   "execution_count": null,
   "id": "10a221d1",
   "metadata": {},
   "outputs": [],
   "source": [
    "inertia = []\n",
    "for k in range(1, 11):\n",
    "    kmeans = KMeans(n_clusters = k, init = \"random\", n_init = 20).fit(WGI_num0)\n",
    "    inertia = inertia + [kmeans.inertia_]\n",
    "inertia = pd.DataFrame({\"k\": range(1, 11), \"inertia\": inertia})\n",
    "inertia.plot.line(x = \"k\", y = \"inertia\")\n",
    "plt.scatter(2, inertia.query('k == 2')[\"inertia\"], c = \"red\")\n",
    "plt.scatter(4, inertia.query('k == 4')[\"inertia\"], c = \"red\")\n",
    "plt.show()"
   ]
  },
  {
   "cell_type": "markdown",
   "id": "2096010a",
   "metadata": {},
   "source": [
    "coude plus marqué au niveau du 4"
   ]
  },
  {
   "cell_type": "code",
   "execution_count": null,
   "id": "4f18f9e6",
   "metadata": {},
   "outputs": [],
   "source": [
    "WGI_pca_k2"
   ]
  },
  {
   "cell_type": "markdown",
   "id": "1bdd8dfc",
   "metadata": {},
   "source": [
    "Ces 4 classes vont permettre de manger équilibrer en les combinant."
   ]
  },
  {
   "cell_type": "markdown",
   "id": "81fcbd49",
   "metadata": {},
   "source": [
    "Comparons les nouveaux groupes et le nutriscore."
   ]
  },
  {
   "cell_type": "code",
   "execution_count": null,
   "id": "fe4ce9b4",
   "metadata": {},
   "outputs": [],
   "source": [
    "pd.crosstab(WGI_pca_k2.classe, WGI_pca_k2.nutrition_grade_fr, normalize = True)"
   ]
  },
  {
   "cell_type": "code",
   "execution_count": null,
   "id": "7523084e",
   "metadata": {},
   "outputs": [],
   "source": [
    "sns.heatmap(pd.crosstab(WGI_pca_k2.nutrition_grade_fr, WGI_pca_k2.classe, normalize = True))"
   ]
  },
  {
   "cell_type": "code",
   "execution_count": null,
   "id": "871caf23",
   "metadata": {},
   "outputs": [],
   "source": [
    "t = pd.crosstab(WGI_pca_k2.nutrition_grade_fr, WGI_pca_k2.classe, normalize = \"columns\")\n",
    "t = t.assign(nutrition_grade_fr = t.index)\n",
    "tm = pd.melt(t, id_vars = \"nutrition_grade_fr\")\n",
    "tm = tm.assign(value = 100 * tm.value)\n",
    "\n",
    "sns.catplot(\"nutrition_grade_fr\", y = \"value\", col = \"classe\", data = tm, kind = \"bar\")"
   ]
  },
  {
   "cell_type": "markdown",
   "id": "94f8e30f",
   "metadata": {},
   "source": [
    "Aucun groupe ne semble se demarquer, excepté la classe 2.\n",
    "\n",
    "Les autres groupes sont homogènes. Ce découpage ne semble pas adapter et est assez aléatoire."
   ]
  },
  {
   "cell_type": "markdown",
   "id": "8482faba",
   "metadata": {},
   "source": [
    "## Utilisation des variables quantitatives contenant les notes"
   ]
  },
  {
   "cell_type": "markdown",
   "id": "75538e03",
   "metadata": {},
   "source": [
    "Essayons de refaire les calculs avec nos variables \"regroupement\""
   ]
  },
  {
   "cell_type": "markdown",
   "id": "18a0bac7",
   "metadata": {},
   "source": [
    "Nous pouvons créer un score total qui ajoutera un poids en fonction des nutriments positifs et négatifs établis par l'agence du nutriscore.\n",
    "\n",
    "Pour rappel :\n",
    "- Points négatifs : l'énergie, les graisses saturées, les sucres, et le sel (des niveaux élevés sont considérés comme mauvais pour la santé)\n",
    "\n",
    "- Points positifs : la proportion de fruits, de légumes, de noix, d'huiles d'olive, de colza et de noix, de fibres et de protéines (les niveaux élevés sont considérés comme bons pour la santé)."
   ]
  },
  {
   "cell_type": "code",
   "execution_count": null,
   "id": "52b40c15",
   "metadata": {},
   "outputs": [],
   "source": [
    "data[\"score_total\"] = data.reg_saturated_fat + data['sugars_100g']*data['salt_100g'] + data['reg_additives']*2 + data['reg_energy'] * data['reg_fat'] + data['reg_carbohydrates'] + data['reg_fiber']*4 + data['reg_protein']*4"
   ]
  },
  {
   "cell_type": "code",
   "execution_count": null,
   "id": "47c44673",
   "metadata": {},
   "outputs": [],
   "source": [
    "pk.graph_hist(data[\"score_total\"],[-28,-10,-5,0,2,4,6,8,10,15,20,24,50,80,100,150,200,250] ,\"Distribution des produits en fonction de la variable score_total\",(0.82, 0.28, 0.09),\n",
    "          -28,2500, 2, 0, 10000, \"score_total\", 'Fréquences',(11,7))"
   ]
  },
  {
   "cell_type": "markdown",
   "id": "512aab72",
   "metadata": {},
   "source": [
    "Réalisons un regroupement et appliquons des notes."
   ]
  },
  {
   "cell_type": "code",
   "execution_count": null,
   "id": "92fca1c3",
   "metadata": {},
   "outputs": [],
   "source": [
    "def reg_score_total(x):\n",
    "    if x<-10:\n",
    "        return -10\n",
    "    elif x>=-10 and x<-5:\n",
    "        return -5\n",
    "    elif x>=-5 and x<1:\n",
    "        return 0\n",
    "    elif x>=0 and x<5:\n",
    "        return 5\n",
    "    elif x>=5 and x<10:\n",
    "        return 10\n",
    "    elif x>=10 and x<15:\n",
    "        return 15\n",
    "    elif x>=15 and x<25:\n",
    "        return 20\n",
    "    elif x>=25 and x<50:\n",
    "        return 50\n",
    "    elif x>=50 and x<80:\n",
    "        return 80\n",
    "    elif x>=80 and x<200:\n",
    "        return 200\n",
    "    elif x>=200:\n",
    "        return 300\n",
    "data['reg_score_total']=data.apply(lambda row: reg_score_total(row.score_total), axis=1)"
   ]
  },
  {
   "cell_type": "code",
   "execution_count": null,
   "id": "65f8818c",
   "metadata": {},
   "outputs": [],
   "source": [
    "pk.graph_barplot(data['reg_score_total'], \"Répartition des aliments en fonction du score total\", \n",
    "              (0.82, 0.28, 0.09),\n",
    "              0, 25, \"Classe proteine\", \"Fréquence en %\",0, 1,(11,7))"
   ]
  },
  {
   "cell_type": "code",
   "execution_count": null,
   "id": "0b58598e",
   "metadata": {},
   "outputs": [],
   "source": [
    "data_study.columns"
   ]
  },
  {
   "cell_type": "code",
   "execution_count": null,
   "id": "7f9877ef",
   "metadata": {},
   "outputs": [],
   "source": [
    "data_study = data[[\"code\", \"product_name\",  \"score_total\",\n",
    "            \"ingredients_text\",\"energy_100g\", \"carbohydrates_100g\", \"proteins_100g\", \"fat_100g\",\n",
    "            \"saturated_fat_100g\", \"fiber_100g\", \"sugars_100g\", \"salt_100g\",\n",
    "             \"additives_n\", \n",
    "            \"ingredients_from_palm_oil_n\", \"ingredients_that_may_be_from_palm_oil_n\", \n",
    "            \"nutrition_grade_fr\", \"main_category\", \"nutrition_score_fr_100g\", 'reg_additives',\n",
    "       'reg_energy', 'reg_fat', 'reg_carbohydrates', 'reg_fiber', \"reg_score_total\",\n",
    "       'reg_protein']]\n",
    "data_study=data_study.loc[(pd.isna(data_study.reg_additives)==False) & (pd.isna(data_study.reg_energy)==False) \n",
    "               & (pd.isna(data_study.reg_carbohydrates)==False) & (pd.isna(data_study.reg_fat)==False) \n",
    "               & (pd.isna(data_study.reg_fiber)==False)  & (pd.isna(data_study.score_total)==False)\n",
    "                            & (pd.isna(data_study.nutrition_score_fr_100g)==False)\n",
    "                          & (pd.isna(data_study.reg_protein)==False) ]"
   ]
  },
  {
   "cell_type": "code",
   "execution_count": null,
   "id": "bb02ebe8",
   "metadata": {},
   "outputs": [],
   "source": [
    "from sklearn.decomposition import PCA\n",
    "from sklearn.preprocessing import StandardScaler, MinMaxScaler, scale\n",
    "# suppression des colonnes non numériques\n",
    "WGI_num0 = data_study.drop(columns = [ \"main_category\", \"nutrition_grade_fr\",\"energy_100g\",\"reg_energy\",\n",
    "                                      \"carbohydrates_100g\", \"proteins_100g\", \"fat_100g\", \"fiber_100g\",\n",
    "                                      \"additives_n\",\"nutrition_score_fr_100g\",\n",
    "                                      \"product_name\",\"sugars_100g\", \"saturated_fat_100g\",\"code\",\n",
    "                                      \"ingredients_text\",  \"ingredients_from_palm_oil_n\", \"ingredients_that_may_be_from_palm_oil_n\"])\n",
    "\n",
    "WGI_num0.columns\n",
    "\n",
    "WGI_num0.describe()"
   ]
  },
  {
   "cell_type": "code",
   "execution_count": null,
   "id": "83fcfce2",
   "metadata": {},
   "outputs": [],
   "source": [
    "pca = PCA()\n",
    "WGI_num = pca.fit_transform(scale(WGI_num0))\n",
    "\n",
    "pca.fit(WGI_num)"
   ]
  },
  {
   "cell_type": "code",
   "execution_count": null,
   "id": "3979f16b",
   "metadata": {},
   "outputs": [],
   "source": [
    "print(pca.explained_variance_)\n",
    "print(pca.explained_variance_ratio_)"
   ]
  },
  {
   "cell_type": "code",
   "execution_count": null,
   "id": "dadea698",
   "metadata": {},
   "outputs": [],
   "source": [
    "eig = pd.DataFrame(\n",
    "    {\n",
    "        \"Dimension\" : [\"Dim\" + str(x + 1) for x in range(8)], \n",
    "        \"Variance expliquée\" : pca.explained_variance_,\n",
    "        \"% variance expliquée\" : np.round(pca.explained_variance_ratio_ * 100),\n",
    "        \"% cum. var. expliquée\" : np.round(np.cumsum(pca.explained_variance_ratio_) * 100)\n",
    "    }\n",
    ")\n",
    "eig"
   ]
  },
  {
   "cell_type": "code",
   "execution_count": null,
   "id": "1a571471",
   "metadata": {},
   "outputs": [],
   "source": [
    "\n",
    "eig.plot.bar(x = \"Dimension\", y = \"% variance expliquée\") # permet un diagramme en barres\n",
    "plt.text(5, 18, \"14%\") # ajout de texte\n",
    "plt.axhline(y = 14, linewidth = .5, color = \"dimgray\", linestyle = \"--\") # ligne 17 = 100 / 6 (nb dimensions)\n",
    "plt.show()"
   ]
  },
  {
   "cell_type": "code",
   "execution_count": null,
   "id": "b8eb2e94",
   "metadata": {},
   "outputs": [],
   "source": [
    "WGI_pca = pca.transform(WGI_num)\n",
    "\n",
    "# +\n",
    "# Transformation en DataFrame pandas\n",
    "WGI_pca_df = pd.DataFrame({\n",
    "    \"Dim1\" : WGI_pca[:,0], \n",
    "    \"Dim2\" : WGI_pca[:,1],\n",
    "    \"Dim3\" : WGI_pca[:,2],\n",
    "    \"Dim4\" : WGI_pca[:,3],\n",
    "    \"Dim5\" : WGI_pca[:,4],\n",
    "    \"product\": data_study[\"product_name\"],\n",
    "    \"nutrition_grade_fr\" : data_study[\"nutrition_grade_fr\"]\n",
    "})\n",
    "# Résultat (premières lignes)\n",
    "WGI_pca_df.head()"
   ]
  },
  {
   "cell_type": "code",
   "execution_count": null,
   "id": "7127e54c",
   "metadata": {},
   "outputs": [],
   "source": [
    "WGI_pca_df.plot.scatter(\"Dim1\", \"Dim2\", \"Dim3\") # nuage de points\n",
    "plt.xlabel(\"Dimension 1 (35%)\") # modification du nom de l'axe X\n",
    "plt.ylabel(\"Dimension 2 (30%)\") # idem pour axe Y\n",
    "plt.suptitle(\"Premier plan factoriel (65%)\") # titre général\n",
    "plt.show()"
   ]
  },
  {
   "cell_type": "code",
   "execution_count": null,
   "id": "fcc55dec",
   "metadata": {},
   "outputs": [],
   "source": [
    "WGI_num0"
   ]
  },
  {
   "cell_type": "code",
   "execution_count": null,
   "id": "6b63f4b5",
   "metadata": {},
   "outputs": [],
   "source": [
    "from yellowbrick.datasets import load_concrete\n",
    "from yellowbrick.features import PCA\n",
    "from yellowbrick.style import set_palette\n",
    "\n",
    "# Load the concrete dataset\n",
    "visualizer = PCA(scale=True, proj_features=True)\n",
    "visualizer.fit_transform(WGI_num0)\n",
    "visualizer.show()"
   ]
  },
  {
   "cell_type": "code",
   "execution_count": null,
   "id": "0840efca",
   "metadata": {},
   "outputs": [],
   "source": [
    "\n",
    "WGI_num.shape\n",
    "\n",
    "WGI_num"
   ]
  },
  {
   "cell_type": "code",
   "execution_count": null,
   "id": "a57c5dbe",
   "metadata": {},
   "outputs": [],
   "source": [
    "# -\n",
    "\n",
    "\n",
    "n = WGI_num.shape[0] # nb individus\n",
    "p = WGI_num.shape[1] # nb variables\n",
    "eigval = (n-1) / n * pca.explained_variance_ # valeurs propres\n",
    "sqrt_eigval = np.sqrt(eigval) # racine carrée des valeurs propres\n",
    "corvar = np.zeros((p,p)) # matrice vide pour avoir les coordonnées\n",
    "for k in range(p):\n",
    "    corvar[:,k] = pca.components_[k,:] * sqrt_eigval[k]\n",
    "# on modifie pour avoir un dataframe\n",
    "coordvar = pd.DataFrame({'id': WGI_num0.columns, 'COR_1': corvar[:,0], 'COR_2': corvar[:,1], 'COR_3': corvar[:,2]\n",
    "                        })\n",
    "coordvar"
   ]
  },
  {
   "cell_type": "code",
   "execution_count": null,
   "id": "fb60c481",
   "metadata": {},
   "outputs": [],
   "source": [
    "WGI_num_t2 = data_study.drop(columns = [\"nutrition_score_fr_100g\", \"energy_100g\",\"main_category\", \n",
    "                                      \"product_name\",\"sugars_100g\", \"saturated_fat_100g\",\"code\", \n",
    "                                      \"ingredients_text\",\"reg_energy\",\"reg_additives\",\n",
    "                                     \"carbohydrates_100g\", \"proteins_100g\", \"fat_100g\",\n",
    "                                     \"fiber_100g\", \"salt_100g\", \"additives_n\", \"ingredients_from_palm_oil_n\", \"ingredients_that_may_be_from_palm_oil_n\"])\n",
    "\n",
    "WGI_num_t2.columns"
   ]
  },
  {
   "cell_type": "code",
   "execution_count": null,
   "id": "6ed8cc98",
   "metadata": {},
   "outputs": [],
   "source": [
    "WGI_num_t2[\"nutrition_grade_fr\"].value_counts()"
   ]
  },
  {
   "cell_type": "code",
   "execution_count": null,
   "id": "3c125d82",
   "metadata": {},
   "outputs": [],
   "source": [
    "test_a=WGI_num_t2.loc[WGI_num_t2[\"nutrition_grade_fr\"]==\"A\"].sample(1000)\n",
    "test_b=WGI_num_t2.loc[WGI_num_t2[\"nutrition_grade_fr\"]==\"B\"].sample(1000)\n",
    "test_c=WGI_num_t2.loc[WGI_num_t2[\"nutrition_grade_fr\"]==\"C\"].sample(1000)\n",
    "test_d=WGI_num_t2.loc[WGI_num_t2[\"nutrition_grade_fr\"]==\"D\"].sample(1000)\n",
    "test_e=WGI_num_t2.loc[WGI_num_t2[\"nutrition_grade_fr\"]==\"E\"].sample(472)\n",
    "\n",
    "frames = [test_a, test_b, test_c, test_d, test_e]\n",
    "\n",
    "test = pd.concat(frames)"
   ]
  },
  {
   "cell_type": "code",
   "execution_count": null,
   "id": "c96c11bb",
   "metadata": {},
   "outputs": [],
   "source": [
    "del test[\"nutrition_grade_fr\"]"
   ]
  },
  {
   "cell_type": "code",
   "execution_count": null,
   "id": "3b44d559",
   "metadata": {},
   "outputs": [],
   "source": [
    "#librairies pour la CAH\n",
    "from matplotlib import pyplot as plt\n",
    "from scipy.cluster.hierarchy import dendrogram, linkage\n",
    "#générer la matrice des liens\n",
    "Z = linkage(test,method='ward',metric='euclidean')\n",
    "#affichage du dendrogramme\n",
    "plt.title(\"CAH\")\n",
    "dendrogram(Z,labels=test.index,color_threshold=0)\n",
    "plt.show()"
   ]
  },
  {
   "cell_type": "code",
   "execution_count": null,
   "id": "f40ddfa1",
   "metadata": {},
   "outputs": [],
   "source": [
    "WGI_num0.columns"
   ]
  },
  {
   "cell_type": "code",
   "execution_count": null,
   "id": "c4a1ecc2",
   "metadata": {},
   "outputs": [],
   "source": [
    "WGI_num0.describe()"
   ]
  },
  {
   "cell_type": "code",
   "execution_count": null,
   "id": "0293e4a7",
   "metadata": {},
   "outputs": [],
   "source": [
    "from sklearn.cluster import KMeans\n",
    "\n",
    "kmeans2 = KMeans(n_clusters = 5)\n",
    "kmeans2.fit(WGI_num0)"
   ]
  },
  {
   "cell_type": "code",
   "execution_count": null,
   "id": "bd999d8a",
   "metadata": {},
   "outputs": [],
   "source": [
    "pd.Series(kmeans2.labels_).value_counts()"
   ]
  },
  {
   "cell_type": "code",
   "execution_count": null,
   "id": "7e777163",
   "metadata": {},
   "outputs": [],
   "source": [
    "WGI_k2 = WGI_num0.assign(classe = kmeans2.labels_)\n",
    "WGI_k2.groupby(\"classe\").mean()\n",
    "\n",
    "WGI_k2"
   ]
  },
  {
   "cell_type": "code",
   "execution_count": null,
   "id": "bd8ba90e",
   "metadata": {},
   "outputs": [],
   "source": [
    "\n",
    "WGI_pca_k2 = WGI_pca_df.assign(classe = kmeans2.labels_)\n",
    "WGI_pca_k2.plot.scatter(x = \"Dim1\", y = \"Dim2\", c = \"classe\", cmap = \"Accent\")\n",
    "plt.show()"
   ]
  },
  {
   "cell_type": "code",
   "execution_count": null,
   "id": "2f5222ca",
   "metadata": {},
   "outputs": [],
   "source": [
    "\n",
    "ax = plt.figure(figsize=(16,10)).gca(projection='3d')\n",
    "WGI_pca_k2 = WGI_pca_df.assign(classe = kmeans2.labels_)\n",
    "ax.scatter(\n",
    "    xs=WGI_pca_k2[\"Dim1\"], \n",
    "    ys=WGI_pca_k2[\"Dim2\"], \n",
    "    zs=WGI_pca_k2[\"Dim3\"],\n",
    "    c=WGI_pca_k2[\"classe\"],\n",
    "    cmap='tab10'\n",
    ")\n",
    "ax.set_xlabel('Dim 1 (35%)')\n",
    "ax.set_ylabel('Dim 2(30%)')\n",
    "ax.set_zlabel('Dim 3 (21%)')\n",
    "plt.show()"
   ]
  },
  {
   "cell_type": "code",
   "execution_count": null,
   "id": "5a24525e",
   "metadata": {},
   "outputs": [],
   "source": [
    "\n",
    "inertia = []\n",
    "for k in range(1, 11):\n",
    "    kmeans = KMeans(n_clusters = k, init = \"random\", n_init = 20).fit(WGI_num0)\n",
    "    inertia = inertia + [kmeans.inertia_]\n",
    "inertia = pd.DataFrame({\"k\": range(1, 11), \"inertia\": inertia})\n",
    "inertia.plot.line(x = \"k\", y = \"inertia\")\n",
    "plt.scatter(2, inertia.query('k == 2')[\"inertia\"], c = \"red\")\n",
    "plt.scatter(5, inertia.query('k == 5')[\"inertia\"], c = \"red\")\n",
    "plt.show()"
   ]
  },
  {
   "cell_type": "code",
   "execution_count": null,
   "id": "3dcbc9c4",
   "metadata": {},
   "outputs": [],
   "source": [
    "sns.heatmap(pd.crosstab(WGI_pca_k2.nutrition_grade_fr, WGI_pca_k2.classe, normalize = True))"
   ]
  },
  {
   "cell_type": "code",
   "execution_count": null,
   "id": "c2ee3706",
   "metadata": {},
   "outputs": [],
   "source": [
    "t = pd.crosstab(WGI_pca_k2.nutrition_grade_fr, WGI_pca_k2.classe, normalize = \"columns\")\n",
    "t = t.assign(nutrition_grade_fr = t.index)\n",
    "tm = pd.melt(t, id_vars = \"nutrition_grade_fr\")\n",
    "tm = tm.assign(value = 100 * tm.value)\n",
    "\n",
    "sns.catplot(\"nutrition_grade_fr\", y = \"value\", col = \"classe\", data = tm, kind = \"bar\")"
   ]
  },
  {
   "cell_type": "code",
   "execution_count": null,
   "id": "bd33a165",
   "metadata": {},
   "outputs": [],
   "source": [
    "tm"
   ]
  },
  {
   "cell_type": "code",
   "execution_count": null,
   "id": "1f1f3de5",
   "metadata": {},
   "outputs": [],
   "source": [
    "WGI_pca_k2"
   ]
  },
  {
   "cell_type": "code",
   "execution_count": null,
   "id": "fddcef6b",
   "metadata": {},
   "outputs": [],
   "source": [
    "new_class = data_study.assign(classe = kmeans2.labels_)"
   ]
  },
  {
   "cell_type": "code",
   "execution_count": null,
   "id": "48a36a76",
   "metadata": {},
   "outputs": [],
   "source": [
    "new_class.describe()"
   ]
  },
  {
   "cell_type": "markdown",
   "id": "30a43c28",
   "metadata": {},
   "source": [
    "Ces résultats sont assez proche du nutriscore. Il y a des poids à mettre en fonction des apports nutritionnels.\n",
    "Il faut donc appliquer une règle métier."
   ]
  },
  {
   "cell_type": "code",
   "execution_count": null,
   "id": "16d408ea",
   "metadata": {},
   "outputs": [],
   "source": []
  },
  {
   "cell_type": "markdown",
   "id": "dc6b808b",
   "metadata": {},
   "source": [
    "# Combinaison des aliments"
   ]
  },
  {
   "cell_type": "markdown",
   "id": "345283b5",
   "metadata": {},
   "source": [
    "Voici l'apport quotidien pour un adulte :\n",
    "\n",
    "Glucides = 250g (carbohydrates)\n",
    "\n",
    "lipides = 50 insaturé et 20 sature\n",
    "\n",
    "Protéines = 45 g pour une personne de 55 kg 60 g pour une personne de 75 kg\n",
    "\n",
    "Fibres = 25 à 30 g dont une moitié issue des céréales et l'autre issue des fruits et légumes\n",
    "\n",
    "Mise à disposition d'une application Smart-Food.\n",
    "\n",
    "Mise au panier d'aliment et calcul de l'apport quotidien Vert/rouge."
   ]
  },
  {
   "cell_type": "code",
   "execution_count": null,
   "id": "75d09f2a",
   "metadata": {},
   "outputs": [],
   "source": []
  },
  {
   "cell_type": "code",
   "execution_count": null,
   "id": "de3860c7",
   "metadata": {},
   "outputs": [],
   "source": []
  }
 ],
 "metadata": {
  "jupytext": {
   "text_representation": {
    "extension": ".md",
    "format_name": "myst",
    "format_version": 0.13,
    "jupytext_version": "1.11.5"
   }
  },
  "kernelspec": {
   "display_name": "venv",
   "language": "python",
   "name": "venv"
  },
  "language_info": {
   "codemirror_mode": {
    "name": "ipython",
    "version": 3
   },
   "file_extension": ".py",
   "mimetype": "text/x-python",
   "name": "python",
   "nbconvert_exporter": "python",
   "pygments_lexer": "ipython3",
   "version": "3.9.8"
  },
  "source_map": [
   12,
   16,
   20,
   26,
   32,
   36,
   40,
   55,
   59,
   61,
   65,
   69,
   72,
   78,
   80,
   84,
   86,
   90,
   92,
   96,
   100,
   104,
   108,
   112,
   114,
   118,
   122,
   124,
   131,
   133,
   137,
   141,
   143,
   147,
   149,
   153,
   157,
   159,
   164,
   168,
   180,
   183,
   187,
   189,
   193,
   197,
   203,
   207,
   211,
   213,
   217,
   222,
   224,
   229,
   233,
   237,
   241,
   245,
   247,
   252,
   254,
   258,
   262,
   264,
   272,
   276,
   278,
   282,
   284,
   288,
   292,
   296,
   300,
   302,
   307,
   314,
   318,
   320,
   325,
   334,
   336,
   342,
   346,
   350,
   352,
   357,
   361,
   365,
   368,
   379,
   381,
   385,
   391,
   393,
   400,
   404,
   422,
   426,
   429,
   433,
   437,
   463,
   465,
   472,
   476,
   478,
   482,
   484,
   490,
   494,
   498,
   502,
   506,
   524,
   526,
   530,
   534,
   538,
   542,
   544,
   548,
   550,
   556,
   560,
   562,
   566,
   572,
   576,
   580,
   582,
   586,
   590,
   595,
   597,
   606,
   619,
   623,
   656,
   659,
   663,
   672,
   676,
   680,
   690,
   694,
   700,
   706,
   710,
   715,
   723,
   727,
   732,
   748,
   752,
   756,
   762,
   767,
   781,
   785,
   789,
   795,
   800,
   814,
   818,
   822,
   828,
   834,
   848,
   852,
   856,
   860,
   864,
   871,
   883,
   887,
   893,
   900,
   914,
   918,
   924,
   930,
   948,
   952,
   956,
   973,
   977,
   981,
   985,
   987,
   998,
   1002,
   1008,
   1010,
   1014,
   1018,
   1024,
   1026,
   1032,
   1036,
   1038,
   1045,
   1047,
   1051,
   1055,
   1059,
   1061,
   1066,
   1070,
   1075,
   1078,
   1082,
   1087,
   1091,
   1094,
   1098,
   1110,
   1114,
   1119,
   1123,
   1125,
   1129,
   1133,
   1137,
   1141,
   1145,
   1149,
   1153,
   1157,
   1164,
   1168,
   1170,
   1175,
   1179,
   1181,
   1185,
   1187,
   1191,
   1195,
   1199,
   1203,
   1205,
   1209,
   1216,
   1218,
   1222,
   1226,
   1230,
   1234,
   1238,
   1244,
   1247,
   1251,
   1255,
   1259,
   1264,
   1268,
   1272,
   1276,
   1282,
   1287,
   1291,
   1295,
   1302,
   1306,
   1310,
   1314,
   1318,
   1327,
   1331,
   1335,
   1339,
   1343,
   1347,
   1351,
   1355,
   1359,
   1363,
   1367,
   1369,
   1373,
   1377,
   1381,
   1385,
   1390,
   1394,
   1398,
   1402,
   1406,
   1410,
   1417,
   1421,
   1425,
   1429,
   1433,
   1435,
   1439,
   1446,
   1450,
   1454,
   1458,
   1477,
   1481,
   1490,
   1500,
   1504,
   1508,
   1512,
   1514,
   1518,
   1522,
   1531,
   1537,
   1541,
   1547,
   1561,
   1565,
   1567,
   1571,
   1575,
   1583,
   1587,
   1591,
   1595,
   1603,
   1607,
   1613,
   1617,
   1620,
   1624,
   1628,
   1635,
   1644,
   1651,
   1656,
   1667,
   1671,
   1676,
   1680,
   1683,
   1687,
   1691,
   1695,
   1726,
   1730,
   1734,
   1738,
   1745,
   1747,
   1751,
   1760,
   1766,
   1772,
   1776,
   1783,
   1787,
   1793,
   1797,
   1804,
   1809,
   1821,
   1828,
   1832,
   1849,
   1857,
   1861,
   1865,
   1879,
   1890,
   1904,
   1908,
   1916,
   1920,
   1924,
   1928,
   1932,
   1938,
   1942,
   1952,
   1956,
   1963,
   1967,
   1971,
   1975,
   1980,
   1984,
   1990,
   1994,
   2010,
   2020,
   2024,
   2026,
   2030,
   2034,
   2038,
   2042,
   2049,
   2055,
   2059,
   2063,
   2072,
   2076,
   2079,
   2083,
   2110,
   2116,
   2120,
   2136,
   2152,
   2159,
   2165,
   2178,
   2187,
   2206,
   2215,
   2219,
   2230,
   2238,
   2256,
   2267,
   2271,
   2283,
   2287,
   2300,
   2304,
   2308,
   2316,
   2321,
   2329,
   2337,
   2355,
   2369,
   2373,
   2382,
   2386,
   2390,
   2394,
   2396,
   2401,
   2403,
   2407,
   2423,
   2427
  ]
 },
 "nbformat": 4,
 "nbformat_minor": 5
}